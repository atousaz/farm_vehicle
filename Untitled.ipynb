{
 "cells": [
  {
   "cell_type": "markdown",
   "id": "9c4f7441-f358-4503-824a-6ef289e56934",
   "metadata": {
    "tags": []
   },
   "source": [
    "# 2020 preprocess new interpolation"
   ]
  },
  {
   "cell_type": "code",
   "execution_count": 2,
   "id": "ff80c80b-f917-4e68-9668-dcfacf026122",
   "metadata": {},
   "outputs": [],
   "source": [
    "\n",
    "import sys\n",
    "sys.path.append(\"/Users/atousaz/Library/CloudStorage/Box-Box/farm/Farm-equipment-following-behaviour\")\n",
    "# path should be adjusted this is based on the laptop i was using\n",
    "path='/Users/atousaz/Library/CloudStorage/Box-Box/' "
   ]
  },
  {
   "cell_type": "code",
   "execution_count": 3,
   "id": "c4004261-16e5-4ced-b6d3-2e7a5e2473c6",
   "metadata": {},
   "outputs": [
    {
     "name": "stderr",
     "output_type": "stream",
     "text": [
      "/Users/atousaz/.local/lib/python3.9/site-packages/astroML/linear_model/linear_regression_errors.py:10: UserWarning: LinearRegressionwithErrors requires PyMC3 to be installed\n",
      "  warnings.warn('LinearRegressionwithErrors requires PyMC3 to be installed')\n"
     ]
    }
   ],
   "source": [
    "# import libraries\n",
    "import os, glob, time, itertools\n",
    "import pandas as pd\n",
    "from utils.helper import *\n",
    "import datetime\n",
    "import numpy as np\n",
    "from sklearn import preprocessing\n",
    "import statsmodels.formula.api as smf\n",
    "import statsmodels.api as sm\n",
    "import seaborn as sns\n",
    "import math\n",
    "import matplotlib.pyplot as plt\n",
    "import pytz\n",
    "\n",
    "%matplotlib inline\n",
    "\n",
    "pwd = os.path.dirname(os.path.realpath('.'))"
   ]
  },
  {
   "cell_type": "code",
   "execution_count": 3,
   "id": "84a39bc0-cba9-425c-8adf-0c3652fbcd44",
   "metadata": {},
   "outputs": [],
   "source": [
    "# read 2020 files\n",
    "list_of_speed_files_2020 = glob.glob(path+'/SaferTrek/Fall 2020 SaferTrek Roadway Data/Analyzed data/speed profiles/*')\n",
    "\n",
    "list_of_csv_files_2020 = glob.glob(path+'saeed_data_distance/Data/2020/'+'/2020_results/*')\n",
    "\n",
    "annotations = pd.read_excel('../chunkCoding_Fall_2020_2022-09-18_All_ISU.xlsx')\n",
    "\n",
    "annotations=annotations.rename(columns={'Filename':'filename','Veh_Type':'Type of vehicle','ISU_road_type':'Type of road'})"
   ]
  },
  {
   "cell_type": "code",
   "execution_count": 31,
   "id": "bdc177af-7b56-4a99-a011-64f0740c913c",
   "metadata": {},
   "outputs": [],
   "source": [
    "# change the file names based on the year\n",
    "name_of_csv_files_2020= [i.split('/')[-1].split('.')[0] for i in list_of_csv_files_2020]\n",
    "valid_files = [i for i in annotations.filename]\n",
    "cnt = 0\n",
    "for i in valid_files:\n",
    "    if i in name_of_csv_files_2020:\n",
    "        cnt += 1\n",
    "assert cnt == len(valid_files), \"Not all the files found!\""
   ]
  },
  {
   "cell_type": "markdown",
   "id": "d3d9a342-12d5-4730-95bd-fdbbed652859",
   "metadata": {
    "tags": []
   },
   "source": [
    "# pinehole"
   ]
  },
  {
   "cell_type": "code",
   "execution_count": 32,
   "id": "37716905-0130-420b-8acf-ebcd0f273c8c",
   "metadata": {},
   "outputs": [
    {
     "name": "stdout",
     "output_type": "stream",
     "text": [
      "815  files remained!\n",
      "50  file processed!\n",
      "765  files remained!\n",
      "100  file processed!\n",
      "715  files remained!\n",
      "150  file processed!\n",
      "665  files remained!\n",
      "200  file processed!\n",
      "615  files remained!\n",
      "250  file processed!\n",
      "565  files remained!\n",
      "300  file processed!\n",
      "515  files remained!\n",
      "350  file processed!\n",
      "465  files remained!\n",
      "400  file processed!\n",
      "415  files remained!\n",
      "450  file processed!\n",
      "365  files remained!\n",
      "500  file processed!\n",
      "315  files remained!\n",
      "550  file processed!\n",
      "Could not process  unit19_2020-10-16_20_50_51_1_13704\n",
      "Speed profile could not be found!\n",
      "Could not process  unit21_2020-09-18_19_27_40_7_58104\n",
      "Speed profile could not be found!\n",
      "Could not process  unit21_2020-09-18_19_27_40_8_60696\n",
      "Speed profile could not be found!\n",
      "Could not process  unit21_2020-09-18_19_27_40_9_65784\n",
      "Speed profile could not be found!\n"
     ]
    }
   ],
   "source": [
    "# Preparing dataset (the deep learning model will be imported here)\n",
    "import warnings\n",
    "warnings.filterwarnings('ignore')\n",
    "cnt = 0\n",
    "dataset = pd.DataFrame()\n",
    "dataset2 = pd.DataFrame()\n",
    "not_processed = []\n",
    "for j in annotations.filename:\n",
    "    for i in name_of_csv_files_2020:\n",
    "        if i == j:\n",
    "            #print(\"file: \", j)\n",
    "            try:\n",
    "                #print(\"file: \", j)\n",
    "                speed_file = [k for k in list_of_speed_files_2020 if k.split('/')[-1].split('.')[0][:-6] == j][0]\n",
    "                #print(speed_file)\n",
    "                \n",
    "                df_raw_speed = prepare_speed_profiles_for_model(speed_file)\n",
    "                file = [k for k in list_of_csv_files_2020 if k.split('/')[-1].split('.')[0] == j][0]\n",
    "                df_detection = prepare_detections_for_model(file, df_raw_speed) #Check helper.py for this function\n",
    "\n",
    "                #remove short videos\n",
    "                if len(df_detection) < 20:\n",
    "                    continue\n",
    "\n",
    "                df_detection_f = merge_speed_and_detection(df_detection, df_raw_speed, annotations, filename=i) #Check helper.py for this function\n",
    "                df_detection_f=df_detection_f[df_detection_f['obj_ID']==1]\n",
    "                #UPDATE THIS TO USE DEEP MODEL\n",
    "                df_detection_f['refined_dist'] = np.vectorize(dist_cal_by_model)(df_detection_f['H'], df_detection_f['Type of vehicle'])            \n",
    "                \n",
    "     \n",
    "                \n",
    "                tmp=pd.DataFrame(np.arange(df_detection_f['frame_num'].iloc[0],df_detection_f['frame_num'].iloc[-1]))\n",
    "                tmp=tmp.rename(columns={tmp.columns[0]: 'frame'})\n",
    "                tmp1=tmp.merge(df_detection_f, how='left',left_on=['frame'], right_on=['frame_num'])\n",
    "                tmp1['frames_all']=str([df_detection_f['frame_num'].iloc[0],df_detection_f['frame_num'].iloc[-1]])\n",
    "\n",
    "                tmp1=tmp1.set_index('frame')\n",
    "                tmp1['refined_dist']=tmp1['refined_dist'].interpolate(method='linear')\n",
    "                tmp1['filename'] = tmp1['filename'].fillna(method='ffill')\n",
    "                tmp1['filename'] = tmp1['filename'].fillna(method='bfill')\n",
    "                tmp1['Type of vehicle'] = tmp1['Type of vehicle'].fillna(method='ffill')\n",
    "               \n",
    "                acc2,vel2,phases, classes, segments, spline = detect_phases(tmp1.refined_dist, plot=False)\n",
    "                \n",
    "                \n",
    "                \n",
    "                if type(phases) == int:\n",
    "                    continue\n",
    "                tmp1=tmp1.reset_index()    \n",
    "                tmp1['phases'] = phases\n",
    "                tmp1['spline_dist'] = spline\n",
    "                tmp1['velocity'] = vel2\n",
    "                tmp1['acceleration'] = acc2\n",
    "                \n",
    "                #df_detection_f['spline_dist']=df_detection_f['refined_dist'].fillna(method='bfill')\n",
    "#                 plot_clustered(file)\n",
    "#                 plt.show()\n",
    "                #df_merged=dataset2.merge(df_detection_f, how='left', left_on=['frame', 'filename'], right_on=['frame_num','filename'])\n",
    "\n",
    "                dataset = pd.concat([dataset,tmp1])\n",
    "                cnt += 1\n",
    "            \n",
    "            except:\n",
    "                print('Could not process ', j)\n",
    "                print('Speed profile could not be found!')\n",
    "                not_processed.append(j)\n",
    "                break\n",
    "    \n",
    "    if cnt%50 == 0:\n",
    "        print(len(list_of_speed_files_2020)-cnt, \" files remained!\")\n",
    "        print(cnt, ' file processed!')\n",
    "#         break"
   ]
  },
  {
   "cell_type": "code",
   "execution_count": 33,
   "id": "6b94d811-e8c7-4caf-8c8b-8c542c17c5d7",
   "metadata": {},
   "outputs": [
    {
     "data": {
      "text/html": [
       "<div>\n",
       "<style scoped>\n",
       "    .dataframe tbody tr th:only-of-type {\n",
       "        vertical-align: middle;\n",
       "    }\n",
       "\n",
       "    .dataframe tbody tr th {\n",
       "        vertical-align: top;\n",
       "    }\n",
       "\n",
       "    .dataframe thead th {\n",
       "        text-align: right;\n",
       "    }\n",
       "</style>\n",
       "<table border=\"1\" class=\"dataframe\">\n",
       "  <thead>\n",
       "    <tr style=\"text-align: right;\">\n",
       "      <th></th>\n",
       "      <th>frame</th>\n",
       "      <th>frame_num</th>\n",
       "      <th>obj_ID</th>\n",
       "      <th>class_ID</th>\n",
       "      <th>H</th>\n",
       "      <th>L</th>\n",
       "      <th>T</th>\n",
       "      <th>W</th>\n",
       "      <th>dist</th>\n",
       "      <th>C_x</th>\n",
       "      <th>...</th>\n",
       "      <th>Longitude</th>\n",
       "      <th>filename</th>\n",
       "      <th>Type of vehicle</th>\n",
       "      <th>Type of road</th>\n",
       "      <th>refined_dist</th>\n",
       "      <th>frames_all</th>\n",
       "      <th>phases</th>\n",
       "      <th>spline_dist</th>\n",
       "      <th>velocity</th>\n",
       "      <th>acceleration</th>\n",
       "    </tr>\n",
       "  </thead>\n",
       "  <tbody>\n",
       "    <tr>\n",
       "      <th>0</th>\n",
       "      <td>643</td>\n",
       "      <td>643.0</td>\n",
       "      <td>1.0</td>\n",
       "      <td>0.0</td>\n",
       "      <td>9.0</td>\n",
       "      <td>462.0</td>\n",
       "      <td>383.0</td>\n",
       "      <td>12.0</td>\n",
       "      <td>159.089722</td>\n",
       "      <td>468.0</td>\n",
       "      <td>...</td>\n",
       "      <td>-91.835695</td>\n",
       "      <td>unit02_2020-09-25_17_27_29_3_6960</td>\n",
       "      <td>PICKUP TRUCK</td>\n",
       "      <td>PAVED</td>\n",
       "      <td>199.253333</td>\n",
       "      <td>[643, 1252]</td>\n",
       "      <td>flying pass</td>\n",
       "      <td>167.801397</td>\n",
       "      <td>-4.955430</td>\n",
       "      <td>-92.863744</td>\n",
       "    </tr>\n",
       "    <tr>\n",
       "      <th>1</th>\n",
       "      <td>644</td>\n",
       "      <td>644.0</td>\n",
       "      <td>1.0</td>\n",
       "      <td>0.0</td>\n",
       "      <td>11.0</td>\n",
       "      <td>462.0</td>\n",
       "      <td>381.0</td>\n",
       "      <td>12.0</td>\n",
       "      <td>130.164318</td>\n",
       "      <td>468.0</td>\n",
       "      <td>...</td>\n",
       "      <td>-91.835695</td>\n",
       "      <td>unit02_2020-09-25_17_27_29_3_6960</td>\n",
       "      <td>PICKUP TRUCK</td>\n",
       "      <td>PAVED</td>\n",
       "      <td>163.025455</td>\n",
       "      <td>[643, 1252]</td>\n",
       "      <td>flying pass</td>\n",
       "      <td>167.585641</td>\n",
       "      <td>-7.959486</td>\n",
       "      <td>-87.379599</td>\n",
       "    </tr>\n",
       "    <tr>\n",
       "      <th>2</th>\n",
       "      <td>645</td>\n",
       "      <td>645.0</td>\n",
       "      <td>1.0</td>\n",
       "      <td>0.0</td>\n",
       "      <td>11.0</td>\n",
       "      <td>459.0</td>\n",
       "      <td>381.0</td>\n",
       "      <td>12.0</td>\n",
       "      <td>130.164318</td>\n",
       "      <td>465.0</td>\n",
       "      <td>...</td>\n",
       "      <td>-91.835695</td>\n",
       "      <td>unit02_2020-09-25_17_27_29_3_6960</td>\n",
       "      <td>PICKUP TRUCK</td>\n",
       "      <td>PAVED</td>\n",
       "      <td>163.025455</td>\n",
       "      <td>[643, 1252]</td>\n",
       "      <td>flying pass</td>\n",
       "      <td>167.272796</td>\n",
       "      <td>-10.780736</td>\n",
       "      <td>-81.895455</td>\n",
       "    </tr>\n",
       "  </tbody>\n",
       "</table>\n",
       "<p>3 rows × 25 columns</p>\n",
       "</div>"
      ],
      "text/plain": [
       "   frame  frame_num  obj_ID  class_ID     H      L      T     W        dist  \\\n",
       "0    643      643.0     1.0       0.0   9.0  462.0  383.0  12.0  159.089722   \n",
       "1    644      644.0     1.0       0.0  11.0  462.0  381.0  12.0  130.164318   \n",
       "2    645      645.0     1.0       0.0  11.0  459.0  381.0  12.0  130.164318   \n",
       "\n",
       "     C_x  ...  Longitude                           filename Type of vehicle  \\\n",
       "0  468.0  ... -91.835695  unit02_2020-09-25_17_27_29_3_6960    PICKUP TRUCK   \n",
       "1  468.0  ... -91.835695  unit02_2020-09-25_17_27_29_3_6960    PICKUP TRUCK   \n",
       "2  465.0  ... -91.835695  unit02_2020-09-25_17_27_29_3_6960    PICKUP TRUCK   \n",
       "\n",
       "   Type of road  refined_dist   frames_all       phases spline_dist  \\\n",
       "0         PAVED    199.253333  [643, 1252]  flying pass  167.801397   \n",
       "1         PAVED    163.025455  [643, 1252]  flying pass  167.585641   \n",
       "2         PAVED    163.025455  [643, 1252]  flying pass  167.272796   \n",
       "\n",
       "    velocity  acceleration  \n",
       "0  -4.955430    -92.863744  \n",
       "1  -7.959486    -87.379599  \n",
       "2 -10.780736    -81.895455  \n",
       "\n",
       "[3 rows x 25 columns]"
      ]
     },
     "execution_count": 33,
     "metadata": {},
     "output_type": "execute_result"
    }
   ],
   "source": [
    "dataset.head(3)"
   ]
  },
  {
   "cell_type": "code",
   "execution_count": 34,
   "id": "5c28037d-14a3-4f2d-a6de-770884617bee",
   "metadata": {},
   "outputs": [],
   "source": [
    "dataset.to_csv('test_vehicle_type.csv')"
   ]
  },
  {
   "cell_type": "code",
   "execution_count": 16,
   "id": "76b9f725-d131-4338-84c3-237a5620f0a7",
   "metadata": {},
   "outputs": [
    {
     "data": {
      "text/plain": [
       "286505"
      ]
     },
     "execution_count": 16,
     "metadata": {},
     "output_type": "execute_result"
    }
   ],
   "source": [
    "test_vehicle_type=pd.read_csv('test_vehicle_type.csv')\n",
    "len(test_vehicle_type)"
   ]
  },
  {
   "cell_type": "code",
   "execution_count": 17,
   "id": "47f54ffe-2b37-4d76-b7d7-ec6a643cefc1",
   "metadata": {},
   "outputs": [],
   "source": [
    "test_vehicle_type = test_vehicle_type[test_vehicle_type['Type of vehicle'].isin(['SUV','PICKUP TRUCK','SEDAN','VAN','Van','Pickup',\n",
    "                                                  'PIckup', 'Car', 'Other - ambulance', 'PICKUP'])]\n",
    "test_vehicle_type['Type of vehicle'] = test_vehicle_type['Type of vehicle'].map({'SUV': 'PICKUP TRUCK',\n",
    "                                                             'Pickup': 'PICKUP TRUCK',\n",
    "                                                             'PIckup': 'PICKUP TRUCK',\n",
    "                                                             'Other - ambulance': 'PICKUP TRUCK',\n",
    "                                                             'PICKUP' : 'PICKUP TRUCK',\n",
    "                                                             'SEDAN': 'car' ,\n",
    "                                                             'Car': 'car' ,\n",
    "                                                             'PICKUP TRUCK': 'PICKUP TRUCK'})"
   ]
  },
  {
   "cell_type": "code",
   "execution_count": 18,
   "id": "44f67cf9-361f-4e5d-94db-5fa9cee90e75",
   "metadata": {},
   "outputs": [],
   "source": [
    "test_vehicle_type=test_vehicle_type.dropna(subset=['Type of vehicle'])\n",
    "test_vehicle_type['Type of vehicle']=np.where(test_vehicle_type['Type of vehicle']=='PICKUP TRUCK','truck',test_vehicle_type['Type of vehicle'])"
   ]
  },
  {
   "cell_type": "code",
   "execution_count": 19,
   "id": "c261f6a6-871f-4359-999e-9d5b7434bcea",
   "metadata": {},
   "outputs": [],
   "source": [
    "# interpolated data with pinhole model\n",
    "test_vehicle_type.to_csv('pin_2020_V_interpolated.csv')"
   ]
  },
  {
   "cell_type": "code",
   "execution_count": 20,
   "id": "4673ce63-0e25-4615-8fa3-141cdf15e748",
   "metadata": {},
   "outputs": [
    {
     "data": {
      "text/plain": [
       "261174"
      ]
     },
     "execution_count": 20,
     "metadata": {},
     "output_type": "execute_result"
    }
   ],
   "source": [
    "pin_2020_V_interpolated=pd.read_csv('pin_2020_V_interpolated.csv')\n",
    "len(pin_2020_V_interpolated)"
   ]
  },
  {
   "cell_type": "code",
   "execution_count": 21,
   "id": "13c3d430-3392-43a0-a774-516cc543a886",
   "metadata": {},
   "outputs": [
    {
     "data": {
      "text/plain": [
       "array(['truck', 'car'], dtype=object)"
      ]
     },
     "execution_count": 21,
     "metadata": {},
     "output_type": "execute_result"
    }
   ],
   "source": [
    "pin_2020_V_interpolated['Type of vehicle'].unique()"
   ]
  },
  {
   "cell_type": "markdown",
   "id": "681f47e9-b6e7-4213-b828-25df8fb3cae7",
   "metadata": {
    "tags": []
   },
   "source": [
    "# acc plots"
   ]
  },
  {
   "cell_type": "code",
   "execution_count": 22,
   "id": "9b36ebea-17e4-479b-99e3-e4d5283145d7",
   "metadata": {},
   "outputs": [
    {
     "name": "stdout",
     "output_type": "stream",
     "text": [
      "unit09_2020-09-16_19_40_58_3_29664\n",
      "unit09_2020-09-25_19_23_06_3_40728\n",
      "unit09_2020-11-01_19_23_40_4_69480\n",
      "unit10_2020-10-15_21_45_58_3_8256\n",
      "unit10_2020-10-17_17_25_42_8_38832\n",
      "unit11_2020-09-26_20_16_47_10_27168\n",
      "unit11_2020-10-30_18_26_21_7_12240\n",
      "unit11_2020-10-31_15_07_10_4_8400\n",
      "unit12_2020-10-02_22_12_01_8_14448\n",
      "unit12_2020-10-04_21_24_06_9_25368\n",
      "unit12_2020-10-05_13_34_27_5_10104\n",
      "unit12_2020-10-05_22_15_20_10_61632\n",
      "unit12_2020-10-06_23_37_00_3_25248\n",
      "unit12_2020-10-28_21_10_29_2_864\n",
      "unit12_2020-11-04_21_50_18_3_27336\n",
      "unit12_2020-11-04_23_01_47_5_30624\n",
      "unit14_2020-09-30_18_42_54_2_5184\n",
      "unit14_2020-10-01_18_54_13_4_21216\n",
      "unit14_2020-10-08_20_04_19_1_14232\n",
      "unit14_2020-10-08_20_04_19_2_20880\n",
      "unit14_2020-10-09_22_21_06_1_336\n",
      "unit14_2020-10-09_22_21_06_4_6096\n",
      "unit17_2020-10-30_23_11_26_2_5928\n",
      "unit21_2020-10-06_17_18_04_2_1944\n"
     ]
    }
   ],
   "source": [
    "path='/Users/atousaz/Library/CloudStorage/Box-Box/'\n",
    "import warnings\n",
    "warnings.filterwarnings('ignore')\n",
    "import pandas as pd\n",
    "import datetime\n",
    "import numpy as np\n",
    "import pickle\n",
    "from scipy.stats import norm\n",
    "from scipy.interpolate import LSQUnivariateSpline\n",
    "import matplotlib.pyplot as plt\n",
    "import cv2\n",
    "import more_itertools as mit\n",
    "import os\n",
    "import matplotlib\n",
    "import matplotlib.font_manager as font_manager\n",
    "from mpl_toolkits.axes_grid1 import make_axes_locatable\n",
    "#temp=pd.read_csv(path+'farm/Farm-equipment-following-behaviour/notebooks/ANN_2020_interpolated.csv')\n",
    "if \"setup_text_plots\" not in globals():\n",
    "    from astroML.plotting import setup_text_plots\n",
    "    \n",
    "setup_text_plots(fontsize=8, usetex=False)\n",
    "matplotlib.use('Agg')\n",
    "pin_2020_V_interpolated=pd.read_csv('pin_2020_V_interpolated.csv')\n",
    "grouped=pin_2020_V_interpolated.groupby(['filename'])\n",
    "for sets, data in grouped:\n",
    "\n",
    "    avg_dist = smooth_scatter(data.refined_dist, 30)\n",
    "    segments = slidingwindowsegment(\n",
    "        avg_dist, poly_regression, poly_sumsquared_error, max_error=10, min_range=30)\n",
    "    segments = update_segments(avg_dist, segments, min_range=30)\n",
    "\n",
    "    x = np.arange(len(data))/30\n",
    "    y = data.refined_dist\n",
    "    t = [i[0]/30 for i in segments]\n",
    "    #     print(x)\n",
    "    #     print(y)\n",
    "    #     print(t)\n",
    "    spl = LSQUnivariateSpline(x, y, t[1:], k=3)\n",
    "    #     print(\"spl: \", spl)\n",
    "\n",
    "\n",
    "\n",
    "    fig, ax = plt.subplots(1, 1, figsize=(12, 4))\n",
    "    draw_segments(avg_dist, segments, ax, spl)\n",
    "\n",
    "    draw_vel(avg_dist, segments, ax, spl)\n",
    "    draw_acc(avg_dist, segments, ax, spl)\n",
    "    ax.plot(np.arange(len(data.refined_dist))/30,\n",
    "            data.refined_dist, 'go',ms=5, alpha=.05)\n",
    "\n",
    "    vel, acc, classes = clasify_segments(avg_dist, segments, spl)\n",
    "    classes, segments = merge_seg(classes, segments)\n",
    "         #print(\"classes_1: \", classes)\n",
    "         #print(\"seg_1: \", segments)\n",
    "\n",
    "    vel, acc, classes = clasify_segments(avg_dist, segments, spl)\n",
    "    classes, segments = merge_seg(classes, segments)\n",
    "    #     print(\"classes: \", classes)\n",
    "    #     print(\"seg_2: \", segments)\n",
    "    try:\n",
    "        for i in range(len(segments)):\n",
    "            ax.text((segments[i][0]/30 + segments[i][2]/30)/2, 20,\n",
    "                    classes[i] + \", {}\".format(i+1), rotation=90, alpha=1)\n",
    "            ax.axvline(x=segments[i][0]/30, ls='--', alpha=.4, c='k')\n",
    "        ax.axvline(x=segments[-1][2]/30, ls='--', alpha=.8, c='k')\n",
    "    except:\n",
    "        print (sets)\n",
    "    plt.savefig(path+'farm/Farm-equipment-following-behaviour/acc_plot_V_2020_pin_interpolated/'+str(sets)+'.jpg',dpi=300)"
   ]
  },
  {
   "cell_type": "markdown",
   "id": "2a95cd61-3d59-4a71-89bd-e61badb25da5",
   "metadata": {
    "tags": []
   },
   "source": [
    "# 2020 ANN"
   ]
  },
  {
   "cell_type": "code",
   "execution_count": 3,
   "id": "97d426fb-4986-4fde-935c-66ec23cc5361",
   "metadata": {},
   "outputs": [],
   "source": [
    "# import ANN distances \n",
    "path='/Users/atousaz/Library/CloudStorage/Box-Box/'\n",
    "ANN=pd.read_csv(path+'farm/Farm-equipment-following-behaviour/notebooks/df_ann_test_dataset_2020_unitless.csv', index_col=[0])\n",
    "\n",
    "\n",
    "#filter on object ID\n",
    "ANN=ANN[ANN['obj_ID']==1]"
   ]
  },
  {
   "cell_type": "code",
   "execution_count": 4,
   "id": "29b5029f-91af-43e3-8a9b-22b0917fb0ad",
   "metadata": {},
   "outputs": [
    {
     "data": {
      "text/html": [
       "<div>\n",
       "<style scoped>\n",
       "    .dataframe tbody tr th:only-of-type {\n",
       "        vertical-align: middle;\n",
       "    }\n",
       "\n",
       "    .dataframe tbody tr th {\n",
       "        vertical-align: top;\n",
       "    }\n",
       "\n",
       "    .dataframe thead th {\n",
       "        text-align: right;\n",
       "    }\n",
       "</style>\n",
       "<table border=\"1\" class=\"dataframe\">\n",
       "  <thead>\n",
       "    <tr style=\"text-align: right;\">\n",
       "      <th></th>\n",
       "      <th>index</th>\n",
       "      <th>Unnamed: 0.1</th>\n",
       "      <th>frame_num</th>\n",
       "      <th>obj_ID</th>\n",
       "      <th>class_ID</th>\n",
       "      <th>H_x</th>\n",
       "      <th>L</th>\n",
       "      <th>T</th>\n",
       "      <th>W_x</th>\n",
       "      <th>dist</th>\n",
       "      <th>...</th>\n",
       "      <th>phases</th>\n",
       "      <th>spline_dist</th>\n",
       "      <th>velocity</th>\n",
       "      <th>acceleration</th>\n",
       "      <th>H_y</th>\n",
       "      <th>W_y</th>\n",
       "      <th>C_x_y</th>\n",
       "      <th>C_y_y</th>\n",
       "      <th>vehicle_dummy</th>\n",
       "      <th>predict</th>\n",
       "    </tr>\n",
       "  </thead>\n",
       "  <tbody>\n",
       "    <tr>\n",
       "      <th>98</th>\n",
       "      <td>98</td>\n",
       "      <td>98</td>\n",
       "      <td>643</td>\n",
       "      <td>1</td>\n",
       "      <td>0</td>\n",
       "      <td>9</td>\n",
       "      <td>462</td>\n",
       "      <td>383</td>\n",
       "      <td>12</td>\n",
       "      <td>159.089722</td>\n",
       "      <td>...</td>\n",
       "      <td>Backing off</td>\n",
       "      <td>146.506784</td>\n",
       "      <td>7.390525</td>\n",
       "      <td>-4.666529</td>\n",
       "      <td>9.0</td>\n",
       "      <td>12.0</td>\n",
       "      <td>468.0</td>\n",
       "      <td>387.5</td>\n",
       "      <td>2.775558e-17</td>\n",
       "      <td>60.468628</td>\n",
       "    </tr>\n",
       "    <tr>\n",
       "      <th>99</th>\n",
       "      <td>99</td>\n",
       "      <td>99</td>\n",
       "      <td>644</td>\n",
       "      <td>1</td>\n",
       "      <td>0</td>\n",
       "      <td>11</td>\n",
       "      <td>462</td>\n",
       "      <td>381</td>\n",
       "      <td>12</td>\n",
       "      <td>130.164318</td>\n",
       "      <td>...</td>\n",
       "      <td>Backing off</td>\n",
       "      <td>146.750465</td>\n",
       "      <td>7.228032</td>\n",
       "      <td>-5.083037</td>\n",
       "      <td>11.0</td>\n",
       "      <td>12.0</td>\n",
       "      <td>468.0</td>\n",
       "      <td>386.5</td>\n",
       "      <td>2.775558e-17</td>\n",
       "      <td>59.419556</td>\n",
       "    </tr>\n",
       "  </tbody>\n",
       "</table>\n",
       "<p>2 rows × 31 columns</p>\n",
       "</div>"
      ],
      "text/plain": [
       "    index  Unnamed: 0.1  frame_num  obj_ID  class_ID  H_x    L    T  W_x  \\\n",
       "98     98            98        643       1         0    9  462  383   12   \n",
       "99     99            99        644       1         0   11  462  381   12   \n",
       "\n",
       "          dist  ...       phases  spline_dist  velocity acceleration   H_y  \\\n",
       "98  159.089722  ...  Backing off   146.506784  7.390525    -4.666529   9.0   \n",
       "99  130.164318  ...  Backing off   146.750465  7.228032    -5.083037  11.0   \n",
       "\n",
       "     W_y  C_x_y  C_y_y vehicle_dummy    predict  \n",
       "98  12.0  468.0  387.5  2.775558e-17  60.468628  \n",
       "99  12.0  468.0  386.5  2.775558e-17  59.419556  \n",
       "\n",
       "[2 rows x 31 columns]"
      ]
     },
     "execution_count": 4,
     "metadata": {},
     "output_type": "execute_result"
    }
   ],
   "source": [
    "ANN.head(2)"
   ]
  },
  {
   "cell_type": "code",
   "execution_count": 5,
   "id": "53c44576-bbf2-4301-b6fe-371e4cba0ef6",
   "metadata": {},
   "outputs": [
    {
     "data": {
      "text/plain": [
       "253516"
      ]
     },
     "execution_count": 5,
     "metadata": {},
     "output_type": "execute_result"
    }
   ],
   "source": [
    "len(ANN)"
   ]
  },
  {
   "cell_type": "code",
   "execution_count": 44,
   "id": "ae63fc3c-15d1-4036-b7c9-50876776b096",
   "metadata": {},
   "outputs": [
    {
     "data": {
      "text/plain": [
       "Index(['index', 'Unnamed: 0.1', 'frame_num', 'obj_ID', 'class_ID', 'H_x', 'L',\n",
       "       'T', 'W_x', 'dist', 'C_x_x', 'C_y_x', 'center', 'datetime_time',\n",
       "       'Speed_MPH', 'Latitude', 'Longitude', 'filename', 'Type of vehicle',\n",
       "       'Type of road', 'refined_dist', 'phases', 'spline_dist', 'velocity',\n",
       "       'acceleration', 'H_y', 'W_y', 'C_x_y', 'C_y_y', 'vehicle_dummy',\n",
       "       'predict'],\n",
       "      dtype='object')"
      ]
     },
     "execution_count": 44,
     "metadata": {},
     "output_type": "execute_result"
    }
   ],
   "source": [
    "ANN.columns"
   ]
  },
  {
   "cell_type": "code",
   "execution_count": 6,
   "id": "e52bbca1-f78d-4e10-8483-57e485f51d28",
   "metadata": {},
   "outputs": [
    {
     "data": {
      "text/plain": [
       "array(['truck', 'car'], dtype=object)"
      ]
     },
     "execution_count": 6,
     "metadata": {},
     "output_type": "execute_result"
    }
   ],
   "source": [
    "ANN['Type of vehicle'].unique()"
   ]
  },
  {
   "cell_type": "code",
   "execution_count": 7,
   "id": "e7544a15-fe4c-46b0-a4dd-1655819f0977",
   "metadata": {},
   "outputs": [],
   "source": [
    "# Preparing dataset (the deep learning model will be imported here)\n",
    "import warnings\n",
    "warnings.filterwarnings('ignore')\n",
    "cnt = 0\n",
    "dataset = pd.DataFrame()\n",
    "not_processed = []\n",
    "grouped=ANN.groupby(['filename'])             \n",
    "for sets, data in grouped: \n",
    "    try:\n",
    "        #print(sets)\n",
    "        data=data.reset_index(drop=True)\n",
    "\n",
    "        tmp=pd.DataFrame(np.arange(data['frame_num'].iloc[0],data['frame_num'].iloc[-1]))\n",
    "        tmp=tmp.rename(columns={tmp.columns[0]: 'frame'})\n",
    "        tmp1=tmp.merge(data, how='left',left_on=['frame'], right_on=['frame_num'])\n",
    "        tmp1['frames_all']=str([data['frame_num'].iloc[0],data['frame_num'].iloc[-1]])\n",
    "\n",
    "        tmp1=tmp1.set_index('frame')\n",
    "        tmp1['predict']=tmp1['predict'].interpolate(method='linear')\n",
    "        tmp1['filename'] = tmp1['filename'].fillna(method='ffill')\n",
    "        tmp1['filename'] = tmp1['filename'].fillna(method='bfill')\n",
    "        tmp1['Type of vehicle'] = tmp1['Type of vehicle'].fillna(method='ffill')\n",
    "\n",
    "        acc2,vel2,phases, classes, segments, spline = detect_phases(tmp1.predict, plot=False) #Check helper.py for this function               \n",
    "\n",
    "        if type(phases) == int:\n",
    "            continue\n",
    "        tmp1=tmp1.reset_index()    \n",
    "        tmp1['phases'] = phases\n",
    "        tmp1['spline_dist'] = spline\n",
    "        tmp1['velocity'] = vel2\n",
    "        tmp1['acceleration'] = acc2\n",
    "\n",
    "        dataset = pd.concat([dataset,tmp1])\n",
    "\n",
    "\n",
    "\n",
    "\n",
    "        cnt += 1\n",
    "            \n",
    "    except:\n",
    "        \n",
    "        print(sets)\n",
    "        #not_processed.append(j)\n",
    "        #break\n"
   ]
  },
  {
   "cell_type": "code",
   "execution_count": 17,
   "id": "58b6a7ed-9d80-448e-b7c1-7a2506a2116a",
   "metadata": {},
   "outputs": [
    {
     "data": {
      "text/html": [
       "<div>\n",
       "<style scoped>\n",
       "    .dataframe tbody tr th:only-of-type {\n",
       "        vertical-align: middle;\n",
       "    }\n",
       "\n",
       "    .dataframe tbody tr th {\n",
       "        vertical-align: top;\n",
       "    }\n",
       "\n",
       "    .dataframe thead th {\n",
       "        text-align: right;\n",
       "    }\n",
       "</style>\n",
       "<table border=\"1\" class=\"dataframe\">\n",
       "  <thead>\n",
       "    <tr style=\"text-align: right;\">\n",
       "      <th></th>\n",
       "      <th>frame</th>\n",
       "      <th>index</th>\n",
       "      <th>Unnamed: 0.1</th>\n",
       "      <th>frame_num</th>\n",
       "      <th>obj_ID</th>\n",
       "      <th>class_ID</th>\n",
       "      <th>H_x</th>\n",
       "      <th>L</th>\n",
       "      <th>T</th>\n",
       "      <th>W_x</th>\n",
       "      <th>...</th>\n",
       "      <th>spline_dist</th>\n",
       "      <th>velocity</th>\n",
       "      <th>acceleration</th>\n",
       "      <th>H_y</th>\n",
       "      <th>W_y</th>\n",
       "      <th>C_x_y</th>\n",
       "      <th>C_y_y</th>\n",
       "      <th>vehicle_dummy</th>\n",
       "      <th>predict</th>\n",
       "      <th>frames_all</th>\n",
       "    </tr>\n",
       "  </thead>\n",
       "  <tbody>\n",
       "    <tr>\n",
       "      <th>0</th>\n",
       "      <td>643</td>\n",
       "      <td>98.0</td>\n",
       "      <td>98.0</td>\n",
       "      <td>643.0</td>\n",
       "      <td>1.0</td>\n",
       "      <td>0.0</td>\n",
       "      <td>9.0</td>\n",
       "      <td>462.0</td>\n",
       "      <td>383.0</td>\n",
       "      <td>12.0</td>\n",
       "      <td>...</td>\n",
       "      <td>59.947816</td>\n",
       "      <td>-3.430757</td>\n",
       "      <td>2.662264</td>\n",
       "      <td>9.0</td>\n",
       "      <td>12.0</td>\n",
       "      <td>468.0</td>\n",
       "      <td>387.5</td>\n",
       "      <td>2.775558e-17</td>\n",
       "      <td>60.468628</td>\n",
       "      <td>[643, 1252]</td>\n",
       "    </tr>\n",
       "    <tr>\n",
       "      <th>1</th>\n",
       "      <td>644</td>\n",
       "      <td>99.0</td>\n",
       "      <td>99.0</td>\n",
       "      <td>644.0</td>\n",
       "      <td>1.0</td>\n",
       "      <td>0.0</td>\n",
       "      <td>11.0</td>\n",
       "      <td>462.0</td>\n",
       "      <td>381.0</td>\n",
       "      <td>12.0</td>\n",
       "      <td>...</td>\n",
       "      <td>59.834929</td>\n",
       "      <td>-3.342721</td>\n",
       "      <td>2.619922</td>\n",
       "      <td>11.0</td>\n",
       "      <td>12.0</td>\n",
       "      <td>468.0</td>\n",
       "      <td>386.5</td>\n",
       "      <td>2.775558e-17</td>\n",
       "      <td>59.419556</td>\n",
       "      <td>[643, 1252]</td>\n",
       "    </tr>\n",
       "  </tbody>\n",
       "</table>\n",
       "<p>2 rows × 33 columns</p>\n",
       "</div>"
      ],
      "text/plain": [
       "   frame  index  Unnamed: 0.1  frame_num  obj_ID  class_ID   H_x      L  \\\n",
       "0    643   98.0          98.0      643.0     1.0       0.0   9.0  462.0   \n",
       "1    644   99.0          99.0      644.0     1.0       0.0  11.0  462.0   \n",
       "\n",
       "       T   W_x  ...  spline_dist  velocity  acceleration   H_y   W_y  C_x_y  \\\n",
       "0  383.0  12.0  ...    59.947816 -3.430757      2.662264   9.0  12.0  468.0   \n",
       "1  381.0  12.0  ...    59.834929 -3.342721      2.619922  11.0  12.0  468.0   \n",
       "\n",
       "   C_y_y  vehicle_dummy    predict   frames_all  \n",
       "0  387.5   2.775558e-17  60.468628  [643, 1252]  \n",
       "1  386.5   2.775558e-17  59.419556  [643, 1252]  \n",
       "\n",
       "[2 rows x 33 columns]"
      ]
     },
     "execution_count": 17,
     "metadata": {},
     "output_type": "execute_result"
    }
   ],
   "source": [
    "dataset.head(2)"
   ]
  },
  {
   "cell_type": "code",
   "execution_count": 12,
   "id": "2aafbb01-a9e5-4a0b-a284-117d1bc8a750",
   "metadata": {},
   "outputs": [
    {
     "data": {
      "text/plain": [
       "array(['truck', 'car'], dtype=object)"
      ]
     },
     "execution_count": 12,
     "metadata": {},
     "output_type": "execute_result"
    }
   ],
   "source": [
    "dataset['Type of vehicle'].unique()"
   ]
  },
  {
   "cell_type": "code",
   "execution_count": 10,
   "id": "58a5bc3e-ae32-4aa0-859f-e409e04e92aa",
   "metadata": {},
   "outputs": [],
   "source": [
    "dataset['Type of vehicle'].unique()\n",
    "dataset.to_csv('ANN_2020_interpolated.csv')"
   ]
  },
  {
   "cell_type": "code",
   "execution_count": 23,
   "id": "43bfad60-948e-4068-a0c6-be4d1c95979a",
   "metadata": {},
   "outputs": [
    {
     "data": {
      "text/plain": [
       "(261174, 261174)"
      ]
     },
     "execution_count": 23,
     "metadata": {},
     "output_type": "execute_result"
    }
   ],
   "source": [
    "ANN_2020_interpolated=pd.read_csv('ANN_2020_V_interpolated.csv')\n",
    "len(ANN_2020_interpolated),len(pin_2020_V_interpolated)"
   ]
  },
  {
   "cell_type": "markdown",
   "id": "8ba747a5-91d6-479d-b491-d77f1773bd29",
   "metadata": {
    "jp-MarkdownHeadingCollapsed": true,
    "tags": []
   },
   "source": [
    "# acc ANN 2020"
   ]
  },
  {
   "cell_type": "code",
   "execution_count": 23,
   "id": "98301055-6bcb-4975-8f16-c054b2ec87aa",
   "metadata": {},
   "outputs": [
    {
     "name": "stdout",
     "output_type": "stream",
     "text": [
      "unit02_2020-10-13_17_21_19_19_95496\n",
      "unit02_2020-10-15_18_52_43_1_1\n",
      "unit08_2020-11-09_21_32_06_21_132984\n",
      "unit09_2020-09-16_19_40_58_5_48504\n",
      "unit09_2020-09-25_19_23_06_3_40728\n",
      "unit10_2020-10-15_21_45_58_3_8256\n",
      "unit11_2020-09-26_20_16_47_10_27168\n",
      "unit11_2020-10-31_17_25_09_7_14904\n",
      "unit12_2020-10-02_20_50_26_1_1\n",
      "unit12_2020-10-04_21_24_06_9_25368\n",
      "unit12_2020-10-05_13_34_27_5_10104\n",
      "unit12_2020-10-05_13_34_27_6_16320\n",
      "unit12_2020-10-05_19_21_49_5_23664\n",
      "unit12_2020-10-05_23_28_45_4_13680\n",
      "unit12_2020-11-02_19_35_49_3_18720\n",
      "unit12_2020-11-03_17_48_08_2_8592\n",
      "unit12_2020-11-03_20_30_34_7_64752\n",
      "unit12_2020-11-04_21_50_18_3_27336\n",
      "unit12_2020-11-06_20_00_36_7_35304\n",
      "unit13_2020-09-26_17_45_20_4_27696\n",
      "unit14_2020-09-26_21_34_01_6_9984\n",
      "unit14_2020-09-30_21_37_07_3_5736\n",
      "unit14_2020-10-01_18_54_13_4_21216\n",
      "unit14_2020-10-07_19_05_55_1_6600\n",
      "unit14_2020-10-08_20_04_19_2_20880\n",
      "unit14_2020-10-08_22_23_14_2_7728\n",
      "unit14_2020-10-08_22_23_14_6_22248\n",
      "unit14_2020-10-09_22_21_06_1_336\n",
      "unit14_2020-10-09_22_21_06_4_6096\n",
      "unit15_2020-09-24_18_11_04_1_3600\n",
      "unit17_2020-09-25_20_01_34_1_1\n",
      "unit17_2020-10-30_19_38_34_4_9624\n",
      "unit17_2020-10-30_22_36_36_4_5496\n",
      "unit17_2020-11-04_20_50_00_1_20544\n",
      "unit17_2020-11-04_20_50_00_2_28224\n",
      "unit17_2020-11-17_20_30_08_3_5016\n",
      "unit19_2020-10-11_15_06_51_1_0\n",
      "unit21_2020-10-02_20_46_02_1_432\n",
      "unit21_2020-10-06_15_02_55_1_1176\n",
      "unit21_2020-10-06_17_18_04_2_1944\n"
     ]
    }
   ],
   "source": [
    "path='/Users/atousaz/Library/CloudStorage/Box-Box/'\n",
    "import warnings\n",
    "warnings.filterwarnings('ignore')\n",
    "import pandas as pd\n",
    "import datetime\n",
    "import numpy as np\n",
    "import pickle\n",
    "from scipy.stats import norm\n",
    "from scipy.interpolate import LSQUnivariateSpline\n",
    "import matplotlib\n",
    "import matplotlib.pyplot as plt\n",
    "import cv2\n",
    "import more_itertools as mit\n",
    "import os\n",
    "import matplotlib.font_manager as font_manager\n",
    "from mpl_toolkits.axes_grid1 import make_axes_locatable\n",
    "temp=pd.read_csv(path+'farm/Farm-equipment-following-behaviour/notebooks/ANN_2020_V_interpolated.csv')\n",
    "if \"setup_text_plots\" not in globals():\n",
    "    from astroML.plotting import setup_text_plots\n",
    "    \n",
    "setup_text_plots(fontsize=8, usetex=False)\n",
    "matplotlib.use('Agg')\n",
    "grouped=temp.groupby(['filename'])\n",
    "for sets, data in grouped:\n",
    "\n",
    "    avg_dist = smooth_scatter(data.predict, 30)\n",
    "    segments = slidingwindowsegment(\n",
    "        avg_dist, poly_regression, poly_sumsquared_error, max_error=10, min_range=30)\n",
    "    segments = update_segments(avg_dist, segments, min_range=30)\n",
    "\n",
    "    x = np.arange(len(data))/30\n",
    "    y = data.predict\n",
    "    t = [i[0]/30 for i in segments]\n",
    "    #     print(x)\n",
    "    #     print(y)\n",
    "    #     print(t)\n",
    "    spl = LSQUnivariateSpline(x, y, t[1:], k=3)\n",
    "    #     print(\"spl: \", spl)\n",
    "\n",
    "\n",
    "\n",
    "    fig, ax = plt.subplots(1, 1, figsize=(12, 4))\n",
    "    draw_segments(avg_dist, segments, ax, spl)\n",
    "\n",
    "    draw_vel(avg_dist, segments, ax, spl)\n",
    "    draw_acc(avg_dist, segments, ax, spl)\n",
    "    ax.plot(np.arange(len(data.predict))/30,\n",
    "            data.predict, 'go',ms=5, alpha=.05)\n",
    "\n",
    "    vel, acc, classes = clasify_segments(avg_dist, segments, spl)\n",
    "    classes, segments = merge_seg(classes, segments)\n",
    "         #print(\"classes_1: \", classes)\n",
    "         #print(\"seg_1: \", segments)\n",
    "\n",
    "    vel, acc, classes = clasify_segments(avg_dist, segments, spl)\n",
    "    classes, segments = merge_seg(classes, segments)\n",
    "    #     print(\"classes: \", classes)\n",
    "    #     print(\"seg_2: \", segments)\n",
    "    try:\n",
    "        for i in range(len(segments)):\n",
    "            ax.text((segments[i][0]/30 + segments[i][2]/30)/2, 20,\n",
    "                    classes[i] + \", {}\".format(i+1), rotation=90, alpha=1)\n",
    "            ax.axvline(x=segments[i][0]/30, ls='--', alpha=.4, c='k')\n",
    "        ax.axvline(x=segments[-1][2]/30, ls='--', alpha=.8, c='k')\n",
    "    except:\n",
    "        print (sets)\n",
    "    plt.savefig(path+'farm/Farm-equipment-following-behaviour/acc_plot_V_2020_ANN_interpolated/'+str(sets)+'.jpg',dpi=300)"
   ]
  },
  {
   "cell_type": "markdown",
   "id": "d8963ad8-8c0d-4c22-81e6-7e57d2f2a212",
   "metadata": {
    "tags": []
   },
   "source": [
    "# 2019 pinhole interpolated"
   ]
  },
  {
   "cell_type": "code",
   "execution_count": 4,
   "id": "288f77ab-6d5a-4813-9cd6-f7f695cd9dde",
   "metadata": {},
   "outputs": [],
   "source": [
    "data_year=path+'/saeed_data_distance/Data/2019'\n",
    "\n",
    "# import data\n",
    "list_of_speed_files_2019 = glob.glob(data_year+'/speed_for_chunks/*')\n",
    "list_of_csv_files_2019 = glob.glob(data_year+'/2019_results/*')\n",
    "annotations = pd.read_excel('annotation_2019.xlsx')"
   ]
  },
  {
   "cell_type": "code",
   "execution_count": 5,
   "id": "8044dc3f-0ef5-4c86-afe4-793de7cbe9df",
   "metadata": {},
   "outputs": [],
   "source": [
    "# change the file names based on the year\n",
    "name_of_csv_files_2019 = [i.split('/')[-1].split('.')[0] for i in list_of_csv_files_2019]\n",
    "valid_files = [i for i in annotations.filename]\n",
    "cnt = 0\n",
    "for i in valid_files:\n",
    "    if i in name_of_csv_files_2019:\n",
    "        cnt += 1\n",
    "assert cnt == len(valid_files), \"Not all the files found!\"\n"
   ]
  },
  {
   "cell_type": "code",
   "execution_count": 6,
   "id": "38aed392-3976-45bc-9e40-bf5a8fde8087",
   "metadata": {},
   "outputs": [
    {
     "name": "stdout",
     "output_type": "stream",
     "text": [
      "435  files remained!\n",
      "50  file processed!\n",
      "Could not process  unit07_2019-11-02_15_58_07_1_11184\n",
      "Speed profile could not be found!\n",
      "Could not process  unit07_2019-11-02_15_58_07_3_19608\n",
      "Speed profile could not be found!\n",
      "Could not process  unit07_2019-11-02_16_25_53_1_1176\n",
      "Speed profile could not be found!\n",
      "Could not process  unit07_2019-11-02_16_25_53_12_54624\n",
      "Speed profile could not be found!\n",
      "Could not process  unit07_2019-11-02_16_25_53_2_5352\n",
      "Speed profile could not be found!\n",
      "Could not process  unit07_2019-11-02_16_25_53_4_16344\n",
      "Speed profile could not be found!\n",
      "Could not process  unit07_2019-11-02_16_25_53_6_24864\n",
      "Speed profile could not be found!\n",
      "Could not process  unit07_2019-11-02_16_25_53_7_27144\n",
      "Speed profile could not be found!\n",
      "Could not process  unit07_2019-11-02_16_25_53_8_33000\n",
      "Speed profile could not be found!\n",
      "Could not process  unit07_2019-11-02_16_25_53_9_38520\n",
      "Speed profile could not be found!\n",
      "Could not process  unit07_2019-11-09_14_57_25_1_2592\n",
      "Speed profile could not be found!\n",
      "Could not process  unit07_2019-11-09_14_57_25_2_7536\n",
      "Speed profile could not be found!\n",
      "Could not process  unit07_2019-11-09_14_57_25_3_12384\n",
      "Speed profile could not be found!\n",
      "Could not process  unit07_2019-11-14_19_38_36_12_78264\n",
      "Speed profile could not be found!\n",
      "Could not process  unit07_2019-11-14_19_38_36_2_29856\n",
      "Speed profile could not be found!\n",
      "Could not process  unit07_2019-11-14_19_38_36_5_44400\n",
      "Speed profile could not be found!\n",
      "Could not process  unit07_2019-11-14_19_38_36_7_49824\n",
      "Speed profile could not be found!\n",
      "Could not process  unit07_2019-11-14_19_38_36_8_54072\n",
      "Speed profile could not be found!\n",
      "Could not process  unit10_2019-11-09_18_09_49_1_2256\n",
      "Speed profile could not be found!\n",
      "Could not process  unit10_2019-11-09_18_09_49_2_25176\n",
      "Speed profile could not be found!\n",
      "Could not process  unit10_2019-11-10_13_42_01_1_8952\n",
      "Speed profile could not be found!\n",
      "Could not process  unit10_2019-11-10_14_56_06_2_9384\n",
      "Speed profile could not be found!\n",
      "Could not process  unit10_2019-11-15_15_27_07_1_1\n",
      "Speed profile could not be found!\n",
      "Could not process  unit10_2019-11-15_15_27_07_4_23856\n",
      "Speed profile could not be found!\n",
      "385  files remained!\n",
      "100  file processed!\n",
      "Could not process  unit11_2019-12-07_17_29_06_1_1\n",
      "Speed profile could not be found!\n",
      "Could not process  unit11_2019-12-07_17_29_06_2_2256\n",
      "Speed profile could not be found!\n",
      "Could not process  unit11_2019-12-07_17_29_06_3_6120\n",
      "Speed profile could not be found!\n",
      "Could not process  unit11_2019-12-07_22_25_09_1_1\n",
      "Speed profile could not be found!\n",
      "Could not process  unit11_2019-12-07_22_25_09_2_3192\n",
      "Speed profile could not be found!\n",
      "Could not process  unit11_2019-12-07_22_25_09_3_11616\n",
      "Speed profile could not be found!\n",
      "Could not process  unit11_2019-12-08_17_59_57_19_99840\n",
      "Speed profile could not be found!\n",
      "Could not process  unit14_2019-10-25_21_05_16_2_10872\n",
      "Speed profile could not be found!\n",
      "Could not process  unit14_2019-10-30_18_17_30_1_1896\n",
      "Speed profile could not be found!\n",
      "335  files remained!\n",
      "150  file processed!\n",
      "Could not process  unit15_2003-09-04_00_03_48_3_3408\n",
      "Speed profile could not be found!\n",
      "Could not process  unit16_2019-10-20_20_17_41_1_2928\n",
      "Speed profile could not be found!\n",
      "Could not process  unit16_2019-10-25_19_50_12_1_6792\n",
      "Speed profile could not be found!\n",
      "Could not process  unit16_2019-10-27_16_59_56_1_1\n",
      "Speed profile could not be found!\n",
      "Could not process  unit16_2019-10-27_21_04_13_1_1\n",
      "Speed profile could not be found!\n",
      "Could not process  unit16_2019-10-28_18_40_11_1_6312\n",
      "Speed profile could not be found!\n",
      "285  files remained!\n",
      "200  file processed!\n",
      "285  files remained!\n",
      "200  file processed!\n",
      "235  files remained!\n",
      "250  file processed!\n",
      "Could not process  unit19_2019-11-17_14_28_43_3_6720\n",
      "Speed profile could not be found!\n",
      "Could not process  unit19_2019-11-17_14_28_43_4_10200\n",
      "Speed profile could not be found!\n",
      "Could not process  unit19_2019-11-17_14_28_43_6_15912\n",
      "Speed profile could not be found!\n",
      "185  files remained!\n",
      "300  file processed!\n",
      "135  files remained!\n",
      "350  file processed!\n"
     ]
    }
   ],
   "source": [
    "# Preparing dataset (the deep learning model will be imported here)\n",
    "import warnings\n",
    "warnings.filterwarnings('ignore')\n",
    "cnt = 0\n",
    "dataset = pd.DataFrame()\n",
    "\n",
    "not_processed = []\n",
    "for j in annotations.filename:\n",
    "    for i in name_of_csv_files_2019:\n",
    "        if i == j:\n",
    "            #print(\"file: \", j)\n",
    "            try:\n",
    "                #print(\"file: \", j)\n",
    "                speed_file = [k for k in list_of_speed_files_2019 if k.split('/')[-1].split('.')[0][:-6] == j][0]\n",
    "                #print(speed_file)\n",
    "                \n",
    "                df_raw_speed = prepare_speed_profiles_for_model(speed_file)\n",
    "                file = [k for k in list_of_csv_files_2019 if k.split('/')[-1].split('.')[0] == j][0]\n",
    "                df_detection = prepare_detections_for_model(file, df_raw_speed) #Check helper.py for this function\n",
    "\n",
    "                #remove short videos\n",
    "                if len(df_detection) < 20:\n",
    "                    continue\n",
    "\n",
    "                df_detection_f = merge_speed_and_detection(df_detection, df_raw_speed, annotations, filename=i) #Check helper.py for this function\n",
    "                #df_detection_f=df_detection_f[df_detection_f['obj_ID']==1]\n",
    "                #UPDATE THIS TO USE DEEP MODEL\n",
    "                df_detection_f['refined_dist'] = np.vectorize(dist_cal_by_model)(df_detection_f['H'], df_detection_f['Type of vehicle'])            \n",
    "                \n",
    "     \n",
    "                \n",
    "                #tmp=pd.DataFrame(np.arange(df_detection_f['frame_num'].iloc[0],df_detection_f['frame_num'].iloc[-1]))\n",
    "                #tmp=tmp.rename(columns={tmp.columns[0]: 'frame'})\n",
    "                #tmp1=tmp.merge(df_detection_f, how='left',left_on=['frame'], right_on=['frame_num'])\n",
    "                #tmp1['frames_all']=str([df_detection_f['frame_num'].iloc[0],df_detection_f['frame_num'].iloc[-1]])\n",
    "\n",
    "                #tmp1=tmp1.set_index('frame')\n",
    "                #tmp1['refined_dist']=tmp1['refined_dist'].interpolate(method='linear')\n",
    "                #tmp1['filename'] = tmp1['filename'].fillna(method='ffill')\n",
    "                #tmp1['filename'] = tmp1['filename'].fillna(method='bfill')\n",
    "                #tmp1['Type of vehicle'] = tmp1['Type of vehicle'].fillna(method='ffill')\n",
    "                \n",
    "                acc2,vel2,phases, classes, segments, spline = detect_phases(df_detection_f.refined_dist, plot=False)\n",
    "                \n",
    "                \n",
    "                \n",
    "                if type(phases) == int:\n",
    "                    continue\n",
    "                df_detection_f=df_detection_f.reset_index()    \n",
    "                df_detection_f['phases'] = phases\n",
    "                df_detection_f['spline_dist'] = spline\n",
    "                df_detection_f['velocity'] = vel2\n",
    "                df_detection_f['acceleration'] = acc2\n",
    "                \n",
    "                #df_detection_f['spline_dist']=df_detection_f['refined_dist'].fillna(method='bfill')\n",
    "#                 plot_clustered(file)\n",
    "#                 plt.show()\n",
    "                #df_merged=dataset2.merge(df_detection_f, how='left', left_on=['frame', 'filename'], right_on=['frame_num','filename'])\n",
    "\n",
    "                dataset = pd.concat([dataset,df_detection_f])\n",
    "                cnt += 1\n",
    "            \n",
    "            except:\n",
    "                print('Could not process ', j)\n",
    "                print('Speed profile could not be found!')\n",
    "                not_processed.append(j)\n",
    "                break\n",
    "    \n",
    "    if cnt%50 == 0:\n",
    "        print(len(list_of_speed_files_2019)-cnt, \" files remained!\")\n",
    "        print(cnt, ' file processed!')\n",
    "#         break"
   ]
  },
  {
   "cell_type": "code",
   "execution_count": 7,
   "id": "53931e62-163f-43fe-acc6-15ee90f400d2",
   "metadata": {},
   "outputs": [],
   "source": [
    "dataset_2019 = dataset[dataset['Type of vehicle'].isin(['SUV','PICKUP TRUCK','SEDAN','VAN','Van','Pickup',\n",
    "                                                  'PIckup', 'Car', 'Other - ambulance', 'PICKUP'])]\n",
    "dataset_2019['Type of vehicle'] = dataset_2019['Type of vehicle'].map({'SUV': 'PICKUP TRUCK',\n",
    "                                                             'Pickup': 'PICKUP TRUCK',\n",
    "                                                             'PIckup': 'PICKUP TRUCK',\n",
    "                                                             'Other - ambulance': 'PICKUP TRUCK',\n",
    "                                                             'PICKUP' : 'PICKUP TRUCK',\n",
    "                                                             'SEDAN': 'car' ,\n",
    "                                                             'Car': 'car' ,\n",
    "                                                             'PICKUP TRUCK': 'PICKUP TRUCK'})\n",
    "\n",
    "dataset_2019=dataset_2019.dropna(subset=['Type of vehicle'])\n",
    "dataset_2019['Type of vehicle']=np.where(dataset_2019['Type of vehicle']=='PICKUP TRUCK','truck',dataset_2019['Type of vehicle'])\n",
    "dataset_2019.to_csv('dataset_2019.csv')"
   ]
  },
  {
   "cell_type": "code",
   "execution_count": null,
   "id": "d4e19fa6-f890-44c2-870e-33b5ad0bd04f",
   "metadata": {},
   "outputs": [],
   "source": []
  },
  {
   "cell_type": "code",
   "execution_count": null,
   "id": "cead782e-90e3-401a-aa92-4cc639f26bbc",
   "metadata": {},
   "outputs": [],
   "source": [
    "# Preparing dataset (the deep learning model will be imported here)\n",
    "import warnings\n",
    "warnings.filterwarnings('ignore')\n",
    "cnt = 0\n",
    "dataset = pd.DataFrame()\n",
    "\n",
    "not_processed = []\n",
    "for j in annotations.filename:\n",
    "    for i in name_of_csv_files_2019:\n",
    "        if i == j:\n",
    "            #print(\"file: \", j)\n",
    "            try:\n",
    "                #print(\"file: \", j)\n",
    "                speed_file = [k for k in list_of_speed_files_2019 if k.split('/')[-1].split('.')[0][:-6] == j][0]\n",
    "                #print(speed_file)\n",
    "                \n",
    "                df_raw_speed = prepare_speed_profiles_for_model(speed_file)\n",
    "                file = [k for k in list_of_csv_files_2019 if k.split('/')[-1].split('.')[0] == j][0]\n",
    "                df_detection = prepare_detections_for_model(file, df_raw_speed) #Check helper.py for this function\n",
    "\n",
    "                #remove short videos\n",
    "                if len(df_detection) < 20:\n",
    "                    continue\n",
    "\n",
    "                df_detection_f = merge_speed_and_detection(df_detection, df_raw_speed, annotations, filename=i) #Check helper.py for this function\n",
    "                df_detection_f=df_detection_f[df_detection_f['obj_ID']==1]\n",
    "                #UPDATE THIS TO USE DEEP MODEL\n",
    "                df_detection_f['refined_dist'] = np.vectorize(dist_cal_by_model)(df_detection_f['H'], df_detection_f['Type of vehicle'])            \n",
    "                \n",
    "     \n",
    "                \n",
    "                tmp=pd.DataFrame(np.arange(df_detection_f['frame_num'].iloc[0],df_detection_f['frame_num'].iloc[-1]))\n",
    "                tmp=tmp.rename(columns={tmp.columns[0]: 'frame'})\n",
    "                tmp1=tmp.merge(df_detection_f, how='left',left_on=['frame'], right_on=['frame_num'])\n",
    "                tmp1['frames_all']=str([df_detection_f['frame_num'].iloc[0],df_detection_f['frame_num'].iloc[-1]])\n",
    "\n",
    "                tmp1=tmp1.set_index('frame')\n",
    "                tmp1['refined_dist']=tmp1['refined_dist'].interpolate(method='linear')\n",
    "                tmp1['filename'] = tmp1['filename'].fillna(method='ffill')\n",
    "                tmp1['filename'] = tmp1['filename'].fillna(method='bfill')\n",
    "                tmp1['Type of vehicle'] = tmp1['Type of vehicle'].fillna(method='ffill')\n",
    "                \n",
    "                acc2,vel2,phases, classes, segments, spline = detect_phases(tmp1.refined_dist, plot=False)\n",
    "                \n",
    "                \n",
    "                \n",
    "                if type(phases) == int:\n",
    "                    continue\n",
    "                tmp1=tmp1.reset_index()    \n",
    "                tmp1['phases'] = phases\n",
    "                tmp1['spline_dist'] = spline\n",
    "                tmp1['velocity'] = vel2\n",
    "                tmp1['acceleration'] = acc2\n",
    "                \n",
    "                #df_detection_f['spline_dist']=df_detection_f['refined_dist'].fillna(method='bfill')\n",
    "#                 plot_clustered(file)\n",
    "#                 plt.show()\n",
    "                #df_merged=dataset2.merge(df_detection_f, how='left', left_on=['frame', 'filename'], right_on=['frame_num','filename'])\n",
    "\n",
    "                dataset = pd.concat([dataset,tmp1])\n",
    "                cnt += 1\n",
    "            \n",
    "            except:\n",
    "                print('Could not process ', j)\n",
    "                print('Speed profile could not be found!')\n",
    "                not_processed.append(j)\n",
    "                break\n",
    "    \n",
    "    if cnt%50 == 0:\n",
    "        print(len(list_of_speed_files_2019)-cnt, \" files remained!\")\n",
    "        print(cnt, ' file processed!')\n",
    "#         break"
   ]
  },
  {
   "cell_type": "code",
   "execution_count": 15,
   "id": "5bb23d70-8292-4550-a28e-7e962f4a3500",
   "metadata": {},
   "outputs": [],
   "source": [
    "dataset_2019 = dataset[dataset['Type of vehicle'].isin(['SUV','PICKUP TRUCK','SEDAN','VAN','Van','Pickup',\n",
    "                                                  'PIckup', 'Car', 'Other - ambulance', 'PICKUP'])]\n",
    "dataset_2019['Type of vehicle'] = dataset_2019['Type of vehicle'].map({'SUV': 'PICKUP TRUCK',\n",
    "                                                             'Pickup': 'PICKUP TRUCK',\n",
    "                                                             'PIckup': 'PICKUP TRUCK',\n",
    "                                                             'Other - ambulance': 'PICKUP TRUCK',\n",
    "                                                             'PICKUP' : 'PICKUP TRUCK',\n",
    "                                                             'SEDAN': 'car' ,\n",
    "                                                             'Car': 'car' ,\n",
    "                                                             'PICKUP TRUCK': 'PICKUP TRUCK'})\n",
    "\n",
    "dataset_2019=dataset_2019.dropna(subset=['Type of vehicle'])\n",
    "dataset_2019['Type of vehicle']=np.where(dataset_2019['Type of vehicle']=='PICKUP TRUCK','truck',dataset_2019['Type of vehicle'])\n",
    "\n",
    "\n",
    "dataset_2019.to_csv('pin_2019_V_interpolated.csv')"
   ]
  },
  {
   "cell_type": "code",
   "execution_count": 18,
   "id": "c72fd5a1-d63e-492c-88e5-b49033dfc004",
   "metadata": {},
   "outputs": [
    {
     "data": {
      "text/plain": [
       "120240"
      ]
     },
     "execution_count": 18,
     "metadata": {},
     "output_type": "execute_result"
    }
   ],
   "source": [
    "len(dataset_2019)"
   ]
  },
  {
   "cell_type": "code",
   "execution_count": 29,
   "id": "d776e706-6a45-4571-b48f-a6a2992f70e5",
   "metadata": {},
   "outputs": [
    {
     "data": {
      "text/plain": [
       "array(['truck', 'car'], dtype=object)"
      ]
     },
     "execution_count": 29,
     "metadata": {},
     "output_type": "execute_result"
    }
   ],
   "source": [
    "dataset_2019['Type of vehicle'].unique()"
   ]
  },
  {
   "cell_type": "markdown",
   "id": "526e264b-5a69-43fa-a6d8-642b0ecc8519",
   "metadata": {
    "tags": []
   },
   "source": [
    "# acc plots"
   ]
  },
  {
   "cell_type": "code",
   "execution_count": 5,
   "id": "051590f1-14c6-43bd-a430-12371815b344",
   "metadata": {},
   "outputs": [
    {
     "name": "stdout",
     "output_type": "stream",
     "text": [
      "unit02_2019-10-30_15_36_25_8_33720\n",
      "unit06_2019-10-18_17_46_36_2_22488\n",
      "unit06_2019-10-18_17_46_36_3_25224\n",
      "unit06_2019-10-30_18_35_35_3_9072\n",
      "unit06_2019-10-30_18_35_35_4_9984\n",
      "unit08_2019-10-25_19_23_55_1_13032\n",
      "unit11_2019-10-30_23_04_11_1_1\n",
      "unit13_2019-10-30_21_44_05_1_792\n",
      "unit13_2019-11-01_19_24_15_1_1\n",
      "unit13_2019-11-06_22_39_15_4_10344\n",
      "unit15_2003-09-04_00_02_48_4_7776\n",
      "unit16_2019-11-18_20_28_44_2_624\n",
      "unit16_2019-11-18_20_28_44_3_5808\n",
      "unit16_2019-11-18_20_28_44_5_15192\n",
      "unit16_2019-11-18_20_28_44_8_24960\n",
      "unit19_2019-11-21_13_57_45_1_6624\n",
      "unit20_2019-10-27_19_37_33_3_19560\n",
      "unit20_2019-10-28_20_39_12_6_26952\n",
      "unit20_2019-11-08_15_30_50_2_18048\n"
     ]
    }
   ],
   "source": [
    "path='/Users/atousaz/Library/CloudStorage/Box-Box/'\n",
    "\n",
    "pin_2019_V_interpolated=pd.read_csv('pin_2019_V_interpolated.csv', index_col=[0])\n",
    "import warnings\n",
    "warnings.filterwarnings('ignore')\n",
    "import pandas as pd\n",
    "import datetime\n",
    "import numpy as np\n",
    "import pickle\n",
    "from scipy.stats import norm\n",
    "from scipy.interpolate import LSQUnivariateSpline\n",
    "import matplotlib.pyplot as plt\n",
    "import cv2\n",
    "import more_itertools as mit\n",
    "import os\n",
    "import matplotlib\n",
    "import matplotlib.font_manager as font_manager\n",
    "from mpl_toolkits.axes_grid1 import make_axes_locatable\n",
    "#temp=pd.read_csv(path+'farm/Farm-equipment-following-behaviour/notebooks/ANN_2020_interpolated.csv')\n",
    "if \"setup_text_plots\" not in globals():\n",
    "    from astroML.plotting import setup_text_plots\n",
    "    \n",
    "setup_text_plots(fontsize=8, usetex=False)\n",
    "matplotlib.use('Agg')\n",
    "grouped=pin_2019_V_interpolated.groupby(['filename'])\n",
    "for sets, data in grouped:\n",
    "\n",
    "    avg_dist = smooth_scatter(data.refined_dist, 30)\n",
    "    segments = slidingwindowsegment(\n",
    "        avg_dist, poly_regression, poly_sumsquared_error, max_error=10, min_range=30)\n",
    "    segments = update_segments(avg_dist, segments, min_range=30)\n",
    "\n",
    "    x = np.arange(len(data))/30\n",
    "    y = data.refined_dist\n",
    "    t = [i[0]/30 for i in segments]\n",
    "    #     print(x)\n",
    "    #     print(y)\n",
    "    #     print(t)\n",
    "    spl = LSQUnivariateSpline(x, y, t[1:], k=3)\n",
    "    #     print(\"spl: \", spl)\n",
    "\n",
    "\n",
    "\n",
    "    fig, ax = plt.subplots(1, 1, figsize=(12, 4))\n",
    "    draw_segments(avg_dist, segments, ax, spl)\n",
    "\n",
    "    draw_vel(avg_dist, segments, ax, spl)\n",
    "    draw_acc(avg_dist, segments, ax, spl)\n",
    "    ax.plot(np.arange(len(data.refined_dist))/30,\n",
    "            data.refined_dist, 'go',ms=5, alpha=.05)\n",
    "\n",
    "    vel, acc, classes = clasify_segments(avg_dist, segments, spl)\n",
    "    classes, segments = merge_seg(classes, segments)\n",
    "         #print(\"classes_1: \", classes)\n",
    "         #print(\"seg_1: \", segments)\n",
    "\n",
    "    vel, acc, classes = clasify_segments(avg_dist, segments, spl)\n",
    "    classes, segments = merge_seg(classes, segments)\n",
    "    #     print(\"classes: \", classes)\n",
    "    #     print(\"seg_2: \", segments)\n",
    "    try:\n",
    "        for i in range(len(segments)):\n",
    "            ax.text((segments[i][0]/30 + segments[i][2]/30)/2, 20,\n",
    "                    classes[i] + \", {}\".format(i+1), rotation=90, alpha=1)\n",
    "            ax.axvline(x=segments[i][0]/30, ls='--', alpha=.4, c='k')\n",
    "        ax.axvline(x=segments[-1][2]/30, ls='--', alpha=.8, c='k')\n",
    "    except:\n",
    "        print (sets)\n",
    "    plt.savefig(path+'farm/Farm-equipment-following-behaviour/acc_plot_V_2019_pin_interpolated/'+str(sets)+'.jpg',dpi=300)"
   ]
  },
  {
   "cell_type": "markdown",
   "id": "d6fa726f-57ae-4bda-9555-32cde899327f",
   "metadata": {
    "tags": []
   },
   "source": [
    "# 2019 ANN interpolated"
   ]
  },
  {
   "cell_type": "code",
   "execution_count": 8,
   "id": "92916160-716b-4ae0-b280-bf9d849efd6a",
   "metadata": {},
   "outputs": [
    {
     "data": {
      "text/plain": [
       "189972"
      ]
     },
     "execution_count": 8,
     "metadata": {},
     "output_type": "execute_result"
    }
   ],
   "source": [
    "# import ANN distances\n",
    "ANN=pd.read_csv(path+'farm/Farm-equipment-following-behaviour/notebooks/df_ann_test_result_2019_unitless1.csv', index_col=[0])\n",
    "len(ANN)\n"
   ]
  },
  {
   "cell_type": "code",
   "execution_count": 9,
   "id": "5c64c99c-4dac-47ae-9299-b22d11d594a2",
   "metadata": {},
   "outputs": [
    {
     "data": {
      "text/html": [
       "<div>\n",
       "<style scoped>\n",
       "    .dataframe tbody tr th:only-of-type {\n",
       "        vertical-align: middle;\n",
       "    }\n",
       "\n",
       "    .dataframe tbody tr th {\n",
       "        vertical-align: top;\n",
       "    }\n",
       "\n",
       "    .dataframe thead th {\n",
       "        text-align: right;\n",
       "    }\n",
       "</style>\n",
       "<table border=\"1\" class=\"dataframe\">\n",
       "  <thead>\n",
       "    <tr style=\"text-align: right;\">\n",
       "      <th></th>\n",
       "      <th>level_0</th>\n",
       "      <th>Unnamed: 0.1</th>\n",
       "      <th>index</th>\n",
       "      <th>frame_num</th>\n",
       "      <th>obj_ID</th>\n",
       "      <th>class_ID</th>\n",
       "      <th>H_x</th>\n",
       "      <th>L</th>\n",
       "      <th>T</th>\n",
       "      <th>W_x</th>\n",
       "      <th>...</th>\n",
       "      <th>phases</th>\n",
       "      <th>spline_dist</th>\n",
       "      <th>velocity</th>\n",
       "      <th>acceleration</th>\n",
       "      <th>H_y</th>\n",
       "      <th>W_y</th>\n",
       "      <th>C_x_y</th>\n",
       "      <th>C_y_y</th>\n",
       "      <th>vehicle_dummy</th>\n",
       "      <th>predict</th>\n",
       "    </tr>\n",
       "  </thead>\n",
       "  <tbody>\n",
       "    <tr>\n",
       "      <th>0</th>\n",
       "      <td>0</td>\n",
       "      <td>0</td>\n",
       "      <td>0</td>\n",
       "      <td>5116</td>\n",
       "      <td>-1</td>\n",
       "      <td>0</td>\n",
       "      <td>23</td>\n",
       "      <td>477</td>\n",
       "      <td>455</td>\n",
       "      <td>24</td>\n",
       "      <td>...</td>\n",
       "      <td>Following</td>\n",
       "      <td>64.75423</td>\n",
       "      <td>-68.313807</td>\n",
       "      <td>196.766229</td>\n",
       "      <td>23.0</td>\n",
       "      <td>24.0</td>\n",
       "      <td>489.0</td>\n",
       "      <td>466.5</td>\n",
       "      <td>2.775558e-17</td>\n",
       "      <td>37.863396</td>\n",
       "    </tr>\n",
       "    <tr>\n",
       "      <th>1</th>\n",
       "      <td>1000</td>\n",
       "      <td>0</td>\n",
       "      <td>0</td>\n",
       "      <td>647</td>\n",
       "      <td>1</td>\n",
       "      <td>0</td>\n",
       "      <td>33</td>\n",
       "      <td>456</td>\n",
       "      <td>459</td>\n",
       "      <td>39</td>\n",
       "      <td>...</td>\n",
       "      <td>Approaching</td>\n",
       "      <td>61.36330</td>\n",
       "      <td>-32.587831</td>\n",
       "      <td>34.842955</td>\n",
       "      <td>23.0</td>\n",
       "      <td>24.0</td>\n",
       "      <td>489.0</td>\n",
       "      <td>466.5</td>\n",
       "      <td>2.775558e-17</td>\n",
       "      <td>37.863396</td>\n",
       "    </tr>\n",
       "  </tbody>\n",
       "</table>\n",
       "<p>2 rows × 32 columns</p>\n",
       "</div>"
      ],
      "text/plain": [
       "   level_0  Unnamed: 0.1  index  frame_num  obj_ID  class_ID  H_x    L    T  \\\n",
       "0        0             0      0       5116      -1         0   23  477  455   \n",
       "1     1000             0      0        647       1         0   33  456  459   \n",
       "\n",
       "   W_x  ...       phases  spline_dist   velocity  acceleration   H_y   W_y  \\\n",
       "0   24  ...    Following     64.75423 -68.313807    196.766229  23.0  24.0   \n",
       "1   39  ...  Approaching     61.36330 -32.587831     34.842955  23.0  24.0   \n",
       "\n",
       "   C_x_y  C_y_y vehicle_dummy    predict  \n",
       "0  489.0  466.5  2.775558e-17  37.863396  \n",
       "1  489.0  466.5  2.775558e-17  37.863396  \n",
       "\n",
       "[2 rows x 32 columns]"
      ]
     },
     "execution_count": 9,
     "metadata": {},
     "output_type": "execute_result"
    }
   ],
   "source": [
    "ANN.head(2)"
   ]
  },
  {
   "cell_type": "code",
   "execution_count": 10,
   "id": "87b101ec-f633-4de8-aafa-d35854f6ec29",
   "metadata": {},
   "outputs": [
    {
     "data": {
      "text/html": [
       "<div>\n",
       "<style scoped>\n",
       "    .dataframe tbody tr th:only-of-type {\n",
       "        vertical-align: middle;\n",
       "    }\n",
       "\n",
       "    .dataframe tbody tr th {\n",
       "        vertical-align: top;\n",
       "    }\n",
       "\n",
       "    .dataframe thead th {\n",
       "        text-align: right;\n",
       "    }\n",
       "</style>\n",
       "<table border=\"1\" class=\"dataframe\">\n",
       "  <thead>\n",
       "    <tr style=\"text-align: right;\">\n",
       "      <th></th>\n",
       "      <th>level_0</th>\n",
       "      <th>Unnamed: 0.1</th>\n",
       "      <th>index</th>\n",
       "      <th>frame_num</th>\n",
       "      <th>obj_ID</th>\n",
       "      <th>class_ID</th>\n",
       "      <th>H_x</th>\n",
       "      <th>L</th>\n",
       "      <th>T</th>\n",
       "      <th>W_x</th>\n",
       "      <th>...</th>\n",
       "      <th>phases</th>\n",
       "      <th>spline_dist</th>\n",
       "      <th>velocity</th>\n",
       "      <th>acceleration</th>\n",
       "      <th>H_y</th>\n",
       "      <th>W_y</th>\n",
       "      <th>C_x_y</th>\n",
       "      <th>C_y_y</th>\n",
       "      <th>vehicle_dummy</th>\n",
       "      <th>predict</th>\n",
       "    </tr>\n",
       "  </thead>\n",
       "  <tbody>\n",
       "    <tr>\n",
       "      <th>1</th>\n",
       "      <td>1000</td>\n",
       "      <td>0</td>\n",
       "      <td>0</td>\n",
       "      <td>647</td>\n",
       "      <td>1</td>\n",
       "      <td>0</td>\n",
       "      <td>33</td>\n",
       "      <td>456</td>\n",
       "      <td>459</td>\n",
       "      <td>39</td>\n",
       "      <td>...</td>\n",
       "      <td>Approaching</td>\n",
       "      <td>61.363300</td>\n",
       "      <td>-32.587831</td>\n",
       "      <td>34.842955</td>\n",
       "      <td>23.0</td>\n",
       "      <td>24.0</td>\n",
       "      <td>489.0</td>\n",
       "      <td>466.5</td>\n",
       "      <td>2.775558e-17</td>\n",
       "      <td>37.863396</td>\n",
       "    </tr>\n",
       "    <tr>\n",
       "      <th>3</th>\n",
       "      <td>3000</td>\n",
       "      <td>0</td>\n",
       "      <td>0</td>\n",
       "      <td>1215</td>\n",
       "      <td>1</td>\n",
       "      <td>0</td>\n",
       "      <td>29</td>\n",
       "      <td>450</td>\n",
       "      <td>463</td>\n",
       "      <td>33</td>\n",
       "      <td>...</td>\n",
       "      <td>Approaching</td>\n",
       "      <td>63.762095</td>\n",
       "      <td>-9.349544</td>\n",
       "      <td>8.474734</td>\n",
       "      <td>23.0</td>\n",
       "      <td>24.0</td>\n",
       "      <td>489.0</td>\n",
       "      <td>466.5</td>\n",
       "      <td>2.775558e-17</td>\n",
       "      <td>37.863396</td>\n",
       "    </tr>\n",
       "  </tbody>\n",
       "</table>\n",
       "<p>2 rows × 32 columns</p>\n",
       "</div>"
      ],
      "text/plain": [
       "   level_0  Unnamed: 0.1  index  frame_num  obj_ID  class_ID  H_x    L    T  \\\n",
       "1     1000             0      0        647       1         0   33  456  459   \n",
       "3     3000             0      0       1215       1         0   29  450  463   \n",
       "\n",
       "   W_x  ...       phases  spline_dist   velocity  acceleration   H_y   W_y  \\\n",
       "1   39  ...  Approaching    61.363300 -32.587831     34.842955  23.0  24.0   \n",
       "3   33  ...  Approaching    63.762095  -9.349544      8.474734  23.0  24.0   \n",
       "\n",
       "   C_x_y  C_y_y vehicle_dummy    predict  \n",
       "1  489.0  466.5  2.775558e-17  37.863396  \n",
       "3  489.0  466.5  2.775558e-17  37.863396  \n",
       "\n",
       "[2 rows x 32 columns]"
      ]
     },
     "execution_count": 10,
     "metadata": {},
     "output_type": "execute_result"
    }
   ],
   "source": [
    "ANN=ANN[ANN['obj_ID']==1]\n",
    "#ANN=ANN.reset_index()\n",
    "ANN.head(2)"
   ]
  },
  {
   "cell_type": "code",
   "execution_count": 23,
   "id": "f2724e9c-2033-4512-9e33-7e4c8b3525ef",
   "metadata": {},
   "outputs": [
    {
     "data": {
      "text/plain": [
       "Index(['level_0', 'Unnamed: 0.1', 'index', 'frame_num', 'obj_ID', 'class_ID',\n",
       "       'H_x', 'L', 'T', 'W_x', 'dist', 'C_x_x', 'C_y_x', 'center',\n",
       "       'datetime_time', 'Speed_MPH', 'Latitude', 'Longitude', 'filename',\n",
       "       'Type of vehicle', 'Type of road', 'refined_dist', 'phases',\n",
       "       'spline_dist', 'velocity', 'acceleration', 'H_y', 'W_y', 'C_x_y',\n",
       "       'C_y_y', 'vehicle_dummy', 'predict'],\n",
       "      dtype='object')"
      ]
     },
     "execution_count": 23,
     "metadata": {},
     "output_type": "execute_result"
    }
   ],
   "source": [
    "ANN.columns"
   ]
  },
  {
   "cell_type": "code",
   "execution_count": 11,
   "id": "9914eb00-c21f-4caf-b6f0-8ddcdb473273",
   "metadata": {},
   "outputs": [
    {
     "data": {
      "text/plain": [
       "(113736, 120240)"
      ]
     },
     "execution_count": 11,
     "metadata": {},
     "output_type": "execute_result"
    }
   ],
   "source": [
    "len(ANN),120240"
   ]
  },
  {
   "cell_type": "code",
   "execution_count": 12,
   "id": "1304f8dd-9eb6-4477-b688-81b9975b3413",
   "metadata": {},
   "outputs": [],
   "source": [
    "ANN=ANN[['frame_num', 'obj_ID', 'class_ID',\n",
    "       'H_x', 'L', 'T', 'W_x', 'dist', 'C_x_x', 'C_y_x', 'center',\n",
    "       'datetime_time', 'Speed_MPH', 'Latitude', 'Longitude', 'filename',\n",
    "       'Type of vehicle', 'Type of road', 'refined_dist','predict']]"
   ]
  },
  {
   "cell_type": "code",
   "execution_count": 13,
   "id": "0a6f1e4a-e5ac-4aeb-99e1-237ee192e9cd",
   "metadata": {},
   "outputs": [
    {
     "data": {
      "text/html": [
       "<div>\n",
       "<style scoped>\n",
       "    .dataframe tbody tr th:only-of-type {\n",
       "        vertical-align: middle;\n",
       "    }\n",
       "\n",
       "    .dataframe tbody tr th {\n",
       "        vertical-align: top;\n",
       "    }\n",
       "\n",
       "    .dataframe thead th {\n",
       "        text-align: right;\n",
       "    }\n",
       "</style>\n",
       "<table border=\"1\" class=\"dataframe\">\n",
       "  <thead>\n",
       "    <tr style=\"text-align: right;\">\n",
       "      <th></th>\n",
       "      <th>frame_num</th>\n",
       "      <th>obj_ID</th>\n",
       "      <th>class_ID</th>\n",
       "      <th>H_x</th>\n",
       "      <th>L</th>\n",
       "      <th>T</th>\n",
       "      <th>W_x</th>\n",
       "      <th>dist</th>\n",
       "      <th>C_x_x</th>\n",
       "      <th>C_y_x</th>\n",
       "      <th>center</th>\n",
       "      <th>datetime_time</th>\n",
       "      <th>Speed_MPH</th>\n",
       "      <th>Latitude</th>\n",
       "      <th>Longitude</th>\n",
       "      <th>filename</th>\n",
       "      <th>Type of vehicle</th>\n",
       "      <th>Type of road</th>\n",
       "      <th>refined_dist</th>\n",
       "      <th>predict</th>\n",
       "    </tr>\n",
       "  </thead>\n",
       "  <tbody>\n",
       "    <tr>\n",
       "      <th>1</th>\n",
       "      <td>647</td>\n",
       "      <td>1</td>\n",
       "      <td>0</td>\n",
       "      <td>33</td>\n",
       "      <td>456</td>\n",
       "      <td>459</td>\n",
       "      <td>39</td>\n",
       "      <td>43.388106</td>\n",
       "      <td>475.5</td>\n",
       "      <td>475.5</td>\n",
       "      <td>672.458549</td>\n",
       "      <td>22:09:31</td>\n",
       "      <td>24.465583</td>\n",
       "      <td>41.708780</td>\n",
       "      <td>-91.910580</td>\n",
       "      <td>unit01_2019-10-14_22_01_59_2_13560</td>\n",
       "      <td>truck</td>\n",
       "      <td>PAVED</td>\n",
       "      <td>54.341818</td>\n",
       "      <td>37.863396</td>\n",
       "    </tr>\n",
       "    <tr>\n",
       "      <th>3</th>\n",
       "      <td>1215</td>\n",
       "      <td>1</td>\n",
       "      <td>0</td>\n",
       "      <td>29</td>\n",
       "      <td>450</td>\n",
       "      <td>463</td>\n",
       "      <td>33</td>\n",
       "      <td>49.372672</td>\n",
       "      <td>466.5</td>\n",
       "      <td>477.5</td>\n",
       "      <td>667.554118</td>\n",
       "      <td>16:51:59</td>\n",
       "      <td>10.943918</td>\n",
       "      <td>41.675752</td>\n",
       "      <td>-91.910332</td>\n",
       "      <td>unit01_2019-10-16_16_51_56_1_1</td>\n",
       "      <td>truck</td>\n",
       "      <td>PAVED</td>\n",
       "      <td>61.837241</td>\n",
       "      <td>37.863396</td>\n",
       "    </tr>\n",
       "    <tr>\n",
       "      <th>4</th>\n",
       "      <td>1515</td>\n",
       "      <td>1</td>\n",
       "      <td>0</td>\n",
       "      <td>45</td>\n",
       "      <td>429</td>\n",
       "      <td>457</td>\n",
       "      <td>42</td>\n",
       "      <td>31.817944</td>\n",
       "      <td>450.0</td>\n",
       "      <td>479.5</td>\n",
       "      <td>657.586686</td>\n",
       "      <td>16:47:07</td>\n",
       "      <td>0.000000</td>\n",
       "      <td>41.667438</td>\n",
       "      <td>-91.881537</td>\n",
       "      <td>unit01_2019-10-20_16_38_44_4_14808</td>\n",
       "      <td>truck</td>\n",
       "      <td>PAVED</td>\n",
       "      <td>39.850667</td>\n",
       "      <td>37.863396</td>\n",
       "    </tr>\n",
       "    <tr>\n",
       "      <th>8</th>\n",
       "      <td>1395</td>\n",
       "      <td>1</td>\n",
       "      <td>0</td>\n",
       "      <td>41</td>\n",
       "      <td>429</td>\n",
       "      <td>455</td>\n",
       "      <td>48</td>\n",
       "      <td>34.922134</td>\n",
       "      <td>453.0</td>\n",
       "      <td>475.5</td>\n",
       "      <td>656.741387</td>\n",
       "      <td>16:55:05</td>\n",
       "      <td>28.965133</td>\n",
       "      <td>41.687810</td>\n",
       "      <td>-91.911385</td>\n",
       "      <td>unit01_2019-10-27_16_51_53_3_5880</td>\n",
       "      <td>truck</td>\n",
       "      <td>PAVED</td>\n",
       "      <td>43.738537</td>\n",
       "      <td>37.863396</td>\n",
       "    </tr>\n",
       "  </tbody>\n",
       "</table>\n",
       "</div>"
      ],
      "text/plain": [
       "   frame_num  obj_ID  class_ID  H_x    L    T  W_x       dist  C_x_x  C_y_x  \\\n",
       "1        647       1         0   33  456  459   39  43.388106  475.5  475.5   \n",
       "3       1215       1         0   29  450  463   33  49.372672  466.5  477.5   \n",
       "4       1515       1         0   45  429  457   42  31.817944  450.0  479.5   \n",
       "8       1395       1         0   41  429  455   48  34.922134  453.0  475.5   \n",
       "\n",
       "       center datetime_time  Speed_MPH   Latitude  Longitude  \\\n",
       "1  672.458549      22:09:31  24.465583  41.708780 -91.910580   \n",
       "3  667.554118      16:51:59  10.943918  41.675752 -91.910332   \n",
       "4  657.586686      16:47:07   0.000000  41.667438 -91.881537   \n",
       "8  656.741387      16:55:05  28.965133  41.687810 -91.911385   \n",
       "\n",
       "                             filename Type of vehicle Type of road  \\\n",
       "1  unit01_2019-10-14_22_01_59_2_13560           truck        PAVED   \n",
       "3      unit01_2019-10-16_16_51_56_1_1           truck        PAVED   \n",
       "4  unit01_2019-10-20_16_38_44_4_14808           truck        PAVED   \n",
       "8   unit01_2019-10-27_16_51_53_3_5880           truck        PAVED   \n",
       "\n",
       "   refined_dist    predict  \n",
       "1     54.341818  37.863396  \n",
       "3     61.837241  37.863396  \n",
       "4     39.850667  37.863396  \n",
       "8     43.738537  37.863396  "
      ]
     },
     "execution_count": 13,
     "metadata": {},
     "output_type": "execute_result"
    }
   ],
   "source": [
    "ANN.head(4)"
   ]
  },
  {
   "cell_type": "code",
   "execution_count": 21,
   "id": "e4437ea9-322c-4909-9498-35142e83ad9a",
   "metadata": {},
   "outputs": [],
   "source": [
    "# Preparing dataset (the deep learning model will be imported here)\n",
    "import warnings\n",
    "warnings.filterwarnings('ignore')\n",
    "cnt = 0\n",
    "dataset = pd.DataFrame()\n",
    "not_processed = []\n",
    "grouped=ANN.groupby(['filename'])             \n",
    "for sets, data in grouped: \n",
    "    try:\n",
    "        #print(sets)\n",
    "        data=data.reset_index(drop=True)\n",
    "\n",
    "        tmp=pd.DataFrame(np.arange(data['frame_num'].iloc[0],data['frame_num'].iloc[-1]))\n",
    "        tmp=tmp.rename(columns={tmp.columns[0]: 'frame'})\n",
    "        tmp1=tmp.merge(data, how='left',left_on=['frame'], right_on=['frame_num'])\n",
    "        tmp1['frames_all']=str([data['frame_num'].iloc[0],data['frame_num'].iloc[-1]])\n",
    "\n",
    "        tmp1=tmp1.set_index('frame')\n",
    "        tmp1['predict']=tmp1['predict'].interpolate(method='linear')\n",
    "        tmp1['filename'] = tmp1['filename'].fillna(method='ffill')\n",
    "        tmp1['filename'] = tmp1['filename'].fillna(method='bfill')\n",
    "        tmp1['Type of vehicle'] = tmp1['Type of vehicle'].fillna(method='ffill')\n",
    "\n",
    "        acc2,vel2,phases, classes, segments, spline = detect_phases(tmp1.predict, plot=False) #Check helper.py for this function               \n",
    "\n",
    "        if type(phases) == int:\n",
    "            continue\n",
    "        tmp1=tmp1.reset_index()    \n",
    "        tmp1['phases'] = phases\n",
    "        tmp1['spline_dist'] = spline\n",
    "        tmp1['velocity'] = vel2\n",
    "        tmp1['acceleration'] = acc2\n",
    "\n",
    "        dataset = pd.concat([dataset,tmp1])\n",
    "\n",
    "\n",
    "\n",
    "\n",
    "        cnt += 1\n",
    "            \n",
    "    except:\n",
    "        \n",
    "        print(sets)\n",
    "        #not_processed.append(j)\n",
    "        #break\n"
   ]
  },
  {
   "cell_type": "code",
   "execution_count": 24,
   "id": "a4de1e78-5cf9-4699-bd16-397bab88d9e3",
   "metadata": {},
   "outputs": [
    {
     "data": {
      "text/plain": [
       "array(['truck', 'car'], dtype=object)"
      ]
     },
     "execution_count": 24,
     "metadata": {},
     "output_type": "execute_result"
    }
   ],
   "source": [
    "dataset['Type of vehicle'].unique()\n"
   ]
  },
  {
   "cell_type": "code",
   "execution_count": 23,
   "id": "876fcec8-5754-4d64-9702-8f8900d90cd6",
   "metadata": {},
   "outputs": [
    {
     "data": {
      "text/plain": [
       "119338"
      ]
     },
     "execution_count": 23,
     "metadata": {},
     "output_type": "execute_result"
    }
   ],
   "source": [
    "len(dataset)"
   ]
  },
  {
   "cell_type": "code",
   "execution_count": 25,
   "id": "f677044c-2b1a-4897-8082-fccb04d9269d",
   "metadata": {},
   "outputs": [],
   "source": [
    "dataset.to_csv(path+'farm/Farm-equipment-following-behaviour/notebooks/ANN_2019_V_interpolated.csv')"
   ]
  },
  {
   "cell_type": "code",
   "execution_count": 26,
   "id": "cdccfd6b-68bc-4981-9e47-4e0f91b4f37d",
   "metadata": {},
   "outputs": [
    {
     "data": {
      "text/plain": [
       "(120240, 119338)"
      ]
     },
     "execution_count": 26,
     "metadata": {},
     "output_type": "execute_result"
    }
   ],
   "source": [
    "ANN_2019_V_interpolated=pd.read_csv(path+'farm/Farm-equipment-following-behaviour/notebooks/ANN_2019_V_interpolated.csv')\n",
    "pin_2019_V_interpolated=pd.read_csv(path+'farm/Farm-equipment-following-behaviour/notebooks/pin_2019_V_interpolated.csv')\n",
    "len(pin_2019_V_interpolated), len(ANN_2019_V_interpolated)"
   ]
  },
  {
   "cell_type": "markdown",
   "id": "ab1f6d9d-082b-4d4d-8a10-6a52c10a8671",
   "metadata": {
    "tags": []
   },
   "source": [
    "# acc ANN"
   ]
  },
  {
   "cell_type": "code",
   "execution_count": 13,
   "id": "60e1291b-39ed-42ed-ad2d-da2f53cd1443",
   "metadata": {},
   "outputs": [
    {
     "name": "stdout",
     "output_type": "stream",
     "text": [
      "unit01_2019-10-14_12_48_57_1_5952\n",
      "unit01_2019-10-14_22_01_59_3_17304\n",
      "unit01_2019-10-20_16_38_44_4_14808\n",
      "unit01_2019-10-28_13_24_53_2_1128\n",
      "unit01_2019-11-14_22_22_35_11_64392\n",
      "unit01_2019-11-14_22_22_35_3_23232\n",
      "unit01_2019-11-14_22_22_35_4_31416\n",
      "unit02_2019-10-09_13_27_25_1_14088\n",
      "unit02_2019-10-09_13_27_25_2_20136\n",
      "unit02_2019-10-18_19_58_25_1_4536\n",
      "unit03_2019-11-03_15_38_59_1_4968\n",
      "unit05_2019-11-16_22_37_58_1_528\n",
      "unit06_2019-10-18_17_46_36_1_20328\n",
      "unit06_2019-10-18_17_46_36_2_22488\n",
      "unit06_2019-10-18_17_46_36_3_25224\n",
      "unit06_2019-10-30_18_35_35_3_9072\n",
      "unit06_2019-10-30_18_35_35_4_9984\n",
      "unit08_2019-10-25_19_23_55_1_13032\n",
      "unit11_2019-10-28_19_26_14_3_7560\n",
      "unit11_2019-10-28_19_26_14_4_9432\n",
      "unit11_2019-10-28_19_26_14_5_10920\n",
      "unit11_2019-10-30_23_04_11_1_1\n",
      "unit13_2019-11-01_19_24_15_1_1\n",
      "unit13_2019-11-05_17_30_01_1_1\n",
      "unit13_2019-11-06_22_39_15_4_10344\n",
      "unit15_2003-09-04_00_02_48_4_7776\n",
      "unit16_2019-11-18_20_28_44_2_624\n",
      "unit16_2019-11-18_20_28_44_3_5808\n",
      "unit16_2019-11-18_20_28_44_5_15192\n",
      "unit16_2019-11-18_20_28_44_8_24960\n",
      "unit19_2019-11-21_13_57_45_1_6624\n",
      "unit20_2019-10-27_19_37_33_3_19560\n",
      "unit20_2019-10-28_20_39_12_6_26952\n"
     ]
    }
   ],
   "source": [
    "path='/Users/atousaz/Library/CloudStorage/Box-Box/'\n",
    "import warnings\n",
    "warnings.filterwarnings('ignore')\n",
    "import pandas as pd\n",
    "import datetime\n",
    "import numpy as np\n",
    "import pickle\n",
    "from scipy.stats import norm\n",
    "from scipy.interpolate import LSQUnivariateSpline\n",
    "import matplotlib\n",
    "import matplotlib.pyplot as plt\n",
    "import cv2\n",
    "import more_itertools as mit\n",
    "import os\n",
    "import matplotlib.font_manager as font_manager\n",
    "from mpl_toolkits.axes_grid1 import make_axes_locatable\n",
    "temp=pd.read_csv(path+'farm/Farm-equipment-following-behaviour/notebooks/ANN_2019_V_interpolated.csv')\n",
    "if \"setup_text_plots\" not in globals():\n",
    "    from astroML.plotting import setup_text_plots\n",
    "    \n",
    "setup_text_plots(fontsize=8, usetex=False)\n",
    "matplotlib.use('Agg')\n",
    "grouped=temp.groupby(['filename'])\n",
    "for sets, data in grouped:\n",
    "\n",
    "    avg_dist = smooth_scatter(data.predict, 30)\n",
    "    segments = slidingwindowsegment(\n",
    "        avg_dist, poly_regression, poly_sumsquared_error, max_error=10, min_range=30)\n",
    "    segments = update_segments(avg_dist, segments, min_range=30)\n",
    "\n",
    "    x = np.arange(len(data))/30\n",
    "    y = data.predict\n",
    "    t = [i[0]/30 for i in segments]\n",
    "    #     print(x)\n",
    "    #     print(y)\n",
    "    #     print(t)\n",
    "    spl = LSQUnivariateSpline(x, y, t[1:], k=3)\n",
    "    #     print(\"spl: \", spl)\n",
    "\n",
    "\n",
    "\n",
    "    fig, ax = plt.subplots(1, 1, figsize=(12, 4))\n",
    "    draw_segments(avg_dist, segments, ax, spl)\n",
    "\n",
    "    draw_vel(avg_dist, segments, ax, spl)\n",
    "    draw_acc(avg_dist, segments, ax, spl)\n",
    "    ax.plot(np.arange(len(data.predict))/30,\n",
    "            data.predict, 'go',ms=5, alpha=.05)\n",
    "\n",
    "    vel, acc, classes = clasify_segments(avg_dist, segments, spl)\n",
    "    classes, segments = merge_seg(classes, segments)\n",
    "         #print(\"classes_1: \", classes)\n",
    "         #print(\"seg_1: \", segments)\n",
    "\n",
    "    vel, acc, classes = clasify_segments(avg_dist, segments, spl)\n",
    "    classes, segments = merge_seg(classes, segments)\n",
    "    #     print(\"classes: \", classes)\n",
    "    #     print(\"seg_2: \", segments)\n",
    "    try:\n",
    "        for i in range(len(segments)):\n",
    "            ax.text((segments[i][0]/30 + segments[i][2]/30)/2, 20,\n",
    "                    classes[i] + \", {}\".format(i+1), rotation=90, alpha=1)\n",
    "            ax.axvline(x=segments[i][0]/30, ls='--', alpha=.4, c='k')\n",
    "        ax.axvline(x=segments[-1][2]/30, ls='--', alpha=.8, c='k')\n",
    "    except:\n",
    "        print (sets)\n",
    "    plt.savefig(path+'farm/Farm-equipment-following-behaviour/acc_plot_V_2019_ANN_interpolated/'+str(sets)+'.jpg',dpi=300)"
   ]
  },
  {
   "cell_type": "markdown",
   "id": "85776d29-5d9e-491f-98f9-705bf6943e6e",
   "metadata": {},
   "source": [
    "# 2018 pin interpolation"
   ]
  },
  {
   "cell_type": "code",
   "execution_count": 30,
   "id": "e10ce64d-5099-4776-b8c4-561e39d40464",
   "metadata": {},
   "outputs": [],
   "source": [
    "# import packages\n",
    "\n",
    "import os, glob, time, itertools\n",
    "import pandas as pd\n",
    "from utils.helper import *\n",
    "import datetime\n",
    "import numpy as np\n",
    "from sklearn import preprocessing\n",
    "import statsmodels.formula.api as smf\n",
    "import statsmodels.api as sm\n",
    "import seaborn as sns\n",
    "import math\n",
    "import matplotlib.pyplot as plt\n",
    "\n",
    "import pytz\n",
    "\n",
    "%matplotlib inline\n",
    "\n",
    "pwd = os.path.dirname(os.path.realpath('.'))\n",
    "\n",
    "year = 2018 # change this for different dataset\n",
    "\n",
    "\n",
    "# seting data path\n",
    "folder_name = '/{}'.format(year)\n",
    "data_folder = pwd +  '/Data'\n",
    "data_year = data_folder + folder_name"
   ]
  },
  {
   "cell_type": "code",
   "execution_count": 31,
   "id": "83ee3467-42fe-4af0-806e-a6a386194de7",
   "metadata": {},
   "outputs": [],
   "source": [
    "# path to data folder\n",
    "path='/Users/atousaz/Library/CloudStorage/Box-Box/'\n",
    "data_year=path+'saeed_data_distance/Data/2018'"
   ]
  },
  {
   "cell_type": "code",
   "execution_count": 32,
   "id": "a93503fd-c2e5-4e54-afff-7f14af764954",
   "metadata": {},
   "outputs": [
    {
     "data": {
      "text/plain": [
       "'/Users/atousaz/Library/CloudStorage/Box-Box/saeed_data_distance/Data/2018/speed_for_chunks/unit17_2018-10-26_22_08_34_1_3912_speed.csv'"
      ]
     },
     "execution_count": 32,
     "metadata": {},
     "output_type": "execute_result"
    }
   ],
   "source": [
    "#read data\n",
    "list_of_speed_files_2018 = glob.glob(data_year+'/speed_for_chunks/*')\n",
    "list_of_speed_files_2018[0]"
   ]
  },
  {
   "cell_type": "code",
   "execution_count": 33,
   "id": "b835f563-4a6f-4f4a-b225-e48b49655b10",
   "metadata": {},
   "outputs": [
    {
     "data": {
      "text/plain": [
       "'/Users/atousaz/Library/CloudStorage/Box-Box/saeed_data_distance/Data/2018/2018_results/unit07_2018-11-19_16_13_35_2_38208.csv'"
      ]
     },
     "execution_count": 33,
     "metadata": {},
     "output_type": "execute_result"
    }
   ],
   "source": [
    "list_of_csv_files_2018 = glob.glob(data_year+'/2018_results/*')\n",
    "list_of_csv_files_2018[0]"
   ]
  },
  {
   "cell_type": "code",
   "execution_count": 34,
   "id": "f3fe15c4-32eb-4391-a685-eb5468c0e17f",
   "metadata": {},
   "outputs": [
    {
     "data": {
      "text/html": [
       "<div>\n",
       "<style scoped>\n",
       "    .dataframe tbody tr th:only-of-type {\n",
       "        vertical-align: middle;\n",
       "    }\n",
       "\n",
       "    .dataframe tbody tr th {\n",
       "        vertical-align: top;\n",
       "    }\n",
       "\n",
       "    .dataframe thead th {\n",
       "        text-align: right;\n",
       "    }\n",
       "</style>\n",
       "<table border=\"1\" class=\"dataframe\">\n",
       "  <thead>\n",
       "    <tr style=\"text-align: right;\">\n",
       "      <th></th>\n",
       "      <th>filename</th>\n",
       "      <th>is_valid</th>\n",
       "      <th>Start time</th>\n",
       "      <th>End time</th>\n",
       "      <th>Type of vehicle</th>\n",
       "      <th>Type of road</th>\n",
       "      <th>Results</th>\n",
       "    </tr>\n",
       "  </thead>\n",
       "  <tbody>\n",
       "    <tr>\n",
       "      <th>0</th>\n",
       "      <td>unit01_2018-09-26_20_38_20_1_2832</td>\n",
       "      <td>Y</td>\n",
       "      <td>203955.0</td>\n",
       "      <td>204048.0</td>\n",
       "      <td>SUV</td>\n",
       "      <td>PAVED</td>\n",
       "      <td>FE TURNS</td>\n",
       "    </tr>\n",
       "    <tr>\n",
       "      <th>1</th>\n",
       "      <td>unit01_2018-09-26_22_29_30_1_7032</td>\n",
       "      <td>Y</td>\n",
       "      <td>223325.0</td>\n",
       "      <td>223406.0</td>\n",
       "      <td>PICKUP TRUCK</td>\n",
       "      <td>PAVED</td>\n",
       "      <td>FE TURNS</td>\n",
       "    </tr>\n",
       "  </tbody>\n",
       "</table>\n",
       "</div>"
      ],
      "text/plain": [
       "                            filename is_valid  Start time  End time  \\\n",
       "0  unit01_2018-09-26_20_38_20_1_2832        Y    203955.0  204048.0   \n",
       "1  unit01_2018-09-26_22_29_30_1_7032        Y    223325.0  223406.0   \n",
       "\n",
       "  Type of vehicle Type of road   Results  \n",
       "0             SUV        PAVED  FE TURNS  \n",
       "1    PICKUP TRUCK        PAVED  FE TURNS  "
      ]
     },
     "execution_count": 34,
     "metadata": {},
     "output_type": "execute_result"
    }
   ],
   "source": [
    "annotations = pd.read_excel('annotation_2018.xlsx')\n",
    "annotations.head(2)"
   ]
  },
  {
   "cell_type": "code",
   "execution_count": 35,
   "id": "c77cbd54-2ca7-4342-b06d-d3136798ed15",
   "metadata": {},
   "outputs": [],
   "source": [
    "annotations=annotations[annotations['is_valid']=='Y']"
   ]
  },
  {
   "cell_type": "code",
   "execution_count": 36,
   "id": "c2e7266f-7003-45b2-a520-1a3c02a7b0d1",
   "metadata": {},
   "outputs": [],
   "source": [
    "\n",
    "# change the file names based on the year\n",
    "name_of_csv_files_2018 = [i.split('/')[-1].split('.')[0] for i in list_of_csv_files_2018]\n",
    "valid_files = [i for i in annotations.filename]\n",
    "cnt = 0\n",
    "for i in valid_files:\n",
    "    if i in name_of_csv_files_2018:\n",
    "        cnt += 1\n",
    "assert cnt == len(valid_files), \"Not all the files found!\"\n"
   ]
  },
  {
   "cell_type": "code",
   "execution_count": 12,
   "id": "9aa86595-c771-46fe-bf00-921ef0c27ab5",
   "metadata": {},
   "outputs": [
    {
     "name": "stdout",
     "output_type": "stream",
     "text": [
      "393  files remained!\n",
      "50  file processed!\n",
      "Could not process  unit02_2018-11-11_20_21_48_3_46272\n",
      "Speed profile could not be found!\n",
      "Could not process  unit02_2018-11-12_14_44_43_2_25032\n",
      "Speed profile could not be found!\n",
      "Could not process  unit02_2018-11-12_14_44_43_3_27840\n",
      "Speed profile could not be found!\n",
      "Could not process  unit02_2018-11-12_14_44_43_5_50016\n",
      "Speed profile could not be found!\n",
      "Could not process  unit02_2018-11-12_14_44_43_6_56256\n",
      "Speed profile could not be found!\n",
      "Could not process  unit02_2018-11-13_17_50_52_4_27240\n",
      "Speed profile could not be found!\n",
      "Could not process  unit02_2018-11-13_18_22_19_1_840\n",
      "Speed profile could not be found!\n",
      "Could not process  unit02_2018-11-13_18_22_19_2_3984\n",
      "Speed profile could not be found!\n",
      "Could not process  unit02_2018-11-13_18_22_19_4_9240\n",
      "Speed profile could not be found!\n",
      "343  files remained!\n",
      "100  file processed!\n",
      "293  files remained!\n",
      "150  file processed!\n",
      "243  files remained!\n",
      "200  file processed!\n",
      "Could not process  unit10_2018-11-21_21_47_46_3_49584\n",
      "Speed profile could not be found!\n",
      "Could not process  unit10_2018-11-21_21_47_46_5_55608\n",
      "Speed profile could not be found!\n",
      "Could not process  unit10_2018-11-23_14_45_05_1_1680\n",
      "Speed profile could not be found!\n",
      "193  files remained!\n",
      "250  file processed!\n",
      "143  files remained!\n",
      "300  file processed!\n",
      "93  files remained!\n",
      "350  file processed!\n",
      "Could not process  unit19_2018-11-15_22_46_06_1_6144\n",
      "Speed profile could not be found!\n",
      "Could not process  unit19_2018-11-15_22_46_06_3_11304\n",
      "Speed profile could not be found!\n",
      "Could not process  unit19_2018-11-21_15_35_48_18_645000\n",
      "Speed profile could not be found!\n",
      "Could not process  unit19_2018-11-21_15_35_48_1_960\n",
      "Speed profile could not be found!\n",
      "Could not process  unit19_2018-11-21_15_35_48_20_650472\n",
      "Speed profile could not be found!\n",
      "Could not process  unit19_2018-11-21_15_35_48_2_7824\n",
      "Speed profile could not be found!\n",
      "Could not process  unit19_2018-11-21_15_35_48_3_11784\n",
      "Speed profile could not be found!\n",
      "Could not process  unit19_2018-11-21_15_35_48_4_12840\n",
      "Speed profile could not be found!\n",
      "Could not process  unit19_2018-11-21_15_35_48_5_14952\n",
      "Speed profile could not be found!\n",
      "43  files remained!\n",
      "400  file processed!\n",
      "Could not process  unit21_2018-11-15_13_54_36_3_19440\n",
      "Speed profile could not be found!\n"
     ]
    }
   ],
   "source": [
    "# Preparing dataset (the deep learning model will be imported here)\n",
    "import warnings\n",
    "warnings.filterwarnings('ignore')\n",
    "cnt = 0\n",
    "dataset = pd.DataFrame()\n",
    "not_processed = []\n",
    "for j in annotations.filename:\n",
    "    for i in name_of_csv_files_2018:\n",
    "        if i == j:\n",
    "            #print(\"file: \", j)\n",
    "            try:\n",
    "                #print(\"file: \", j)\n",
    "                speed_file = [k for k in list_of_speed_files_2018 if k.split('/')[-1].split('.')[0][:-6] == j][0]\n",
    "                #print(speed_file)\n",
    "                \n",
    "                df_raw_speed = prepare_speed_profiles_for_model(speed_file)\n",
    "                file = [k for k in list_of_csv_files_2018 if k.split('/')[-1].split('.')[0] == j][0]\n",
    "                df_detection = prepare_detections_for_model(file, df_raw_speed) #Check helper.py for this function\n",
    "\n",
    "                #remove short videos\n",
    "                if len(df_detection) < 20:\n",
    "                    continue\n",
    "\n",
    "                df_detection_f = merge_speed_and_detection(df_detection, df_raw_speed, annotations, filename=i) #Check helper.py for this function\n",
    "                df_detection_f=df_detection_f[df_detection_f['obj_ID']==1]\n",
    "                #UPDATE THIS TO USE DEEP MODEL\n",
    "                df_detection_f['refined_dist'] = np.vectorize(dist_cal_by_model)(df_detection_f['H'], df_detection_f['Type of vehicle'])            \n",
    "                \n",
    "     \n",
    "                \n",
    "                tmp=pd.DataFrame(np.arange(df_detection_f['frame_num'].iloc[0],df_detection_f['frame_num'].iloc[-1]))\n",
    "                tmp=tmp.rename(columns={tmp.columns[0]: 'frame'})\n",
    "                tmp1=tmp.merge(df_detection_f, how='left',left_on=['frame'], right_on=['frame_num'])\n",
    "                tmp1['frames_all']=str([df_detection_f['frame_num'].iloc[0],df_detection_f['frame_num'].iloc[-1]])\n",
    "\n",
    "                tmp1=tmp1.set_index('frame')\n",
    "                tmp1['refined_dist']=tmp1['refined_dist'].interpolate(method='linear')\n",
    "                tmp1['filename'] = tmp1['filename'].fillna(method='ffill')\n",
    "                tmp1['filename'] = tmp1['filename'].fillna(method='bfill')\n",
    "                tmp1['Type of vehicle'] = tmp1['Type of vehicle'].fillna(method='ffill')\n",
    "                tmp1['obj_ID'] = tmp1['obj_ID'].fillna(method='ffill')\n",
    "                \n",
    "                \n",
    "                \n",
    "                acc2,vel2,phases, classes, segments, spline = detect_phases(tmp1.refined_dist, plot=False)\n",
    "                \n",
    "                \n",
    "                \n",
    "                if type(phases) == int:\n",
    "                    continue\n",
    "                tmp1=tmp1.reset_index()    \n",
    "                tmp1['phases'] = phases\n",
    "                tmp1['spline_dist'] = spline\n",
    "                tmp1['velocity'] = vel2\n",
    "                tmp1['acceleration'] = acc2\n",
    "                \n",
    "                #df_detection_f['spline_dist']=df_detection_f['refined_dist'].fillna(method='bfill')\n",
    "#                 plot_clustered(file)\n",
    "#                 plt.show()\n",
    "                #df_merged=dataset2.merge(df_detection_f, how='left', left_on=['frame', 'filename'], right_on=['frame_num','filename'])\n",
    "\n",
    "                dataset = pd.concat([dataset,tmp1])\n",
    "                cnt += 1\n",
    "            \n",
    "            except:\n",
    "                print('Could not process ', j)\n",
    "                print('Speed profile could not be found!')\n",
    "                not_processed.append(j)\n",
    "                break\n",
    "    \n",
    "    if cnt%50 == 0:\n",
    "        print(len(list_of_speed_files_2018)-cnt, \" files remained!\")\n",
    "        print(cnt, ' file processed!')\n",
    "#         break"
   ]
  },
  {
   "cell_type": "code",
   "execution_count": 38,
   "id": "b2cd1ae5-32e2-48c2-8d42-8c7b2bea3a66",
   "metadata": {},
   "outputs": [
    {
     "data": {
      "text/plain": [
       "array(['SUV', 'PICKUP TRUCK', 'SEDAN', 'HEAVY TRUCK', 'BUS', 'VAN',\n",
       "       'FARM EQ'], dtype=object)"
      ]
     },
     "execution_count": 38,
     "metadata": {},
     "output_type": "execute_result"
    }
   ],
   "source": [
    "dataset['Type of vehicle'].unique()"
   ]
  },
  {
   "cell_type": "code",
   "execution_count": 39,
   "id": "65f07277-7887-4b0f-82e2-65706d4a17d5",
   "metadata": {},
   "outputs": [],
   "source": [
    "# filter on vehicle type\n",
    "\n",
    "dataset_2018 = dataset[dataset['Type of vehicle'].isin(['SUV','PICKUP TRUCK','SEDAN','VAN','Van','Pickup',\n",
    "                                                  'PIckup', 'Car', 'Other - ambulance', 'PICKUP'])]\n",
    "dataset_2018['Type of vehicle'] = dataset_2018['Type of vehicle'].map({'SUV': 'PICKUP TRUCK',\n",
    "                                                             'Pickup': 'PICKUP TRUCK',\n",
    "                                                             'PIckup': 'PICKUP TRUCK',\n",
    "                                                             'Other - ambulance': 'PICKUP TRUCK',\n",
    "                                                             'PICKUP' : 'PICKUP TRUCK',\n",
    "                                                             'SEDAN': 'car' ,\n",
    "                                                             'Car': 'car' ,\n",
    "                                                             'PICKUP TRUCK': 'PICKUP TRUCK'})\n"
   ]
  },
  {
   "cell_type": "code",
   "execution_count": 40,
   "id": "d316b8e3-605d-4eaa-ac23-ae21ce56a903",
   "metadata": {},
   "outputs": [
    {
     "data": {
      "text/plain": [
       "190196"
      ]
     },
     "execution_count": 40,
     "metadata": {},
     "output_type": "execute_result"
    }
   ],
   "source": [
    "len(dataset_2018)"
   ]
  },
  {
   "cell_type": "code",
   "execution_count": 41,
   "id": "224a3c6f-32b9-4ae2-bc58-6b9f22777916",
   "metadata": {},
   "outputs": [],
   "source": [
    "\n",
    "dataset_2018=dataset_2018.dropna(subset=['Type of vehicle'])\n",
    "dataset_2018['Type of vehicle']=np.where(dataset_2018['Type of vehicle']=='PICKUP TRUCK','truck',dataset_2018['Type of vehicle'])\n"
   ]
  },
  {
   "cell_type": "code",
   "execution_count": 42,
   "id": "6445386c-fa8c-44e6-be05-8f86a9238b77",
   "metadata": {},
   "outputs": [
    {
     "data": {
      "text/plain": [
       "182614"
      ]
     },
     "execution_count": 42,
     "metadata": {},
     "output_type": "execute_result"
    }
   ],
   "source": [
    "len(dataset_2018)"
   ]
  },
  {
   "cell_type": "code",
   "execution_count": 18,
   "id": "575b589a-6850-4a83-8c05-042cfe4c5c44",
   "metadata": {},
   "outputs": [],
   "source": [
    "dataset_2018.to_csv('pin_2018_V_interpolated.csv')"
   ]
  },
  {
   "cell_type": "code",
   "execution_count": 63,
   "id": "8d1fb22c-c30c-4180-b7eb-183a1465f5e3",
   "metadata": {},
   "outputs": [
    {
     "data": {
      "text/plain": [
       "182614"
      ]
     },
     "execution_count": 63,
     "metadata": {},
     "output_type": "execute_result"
    }
   ],
   "source": [
    "len(dataset_2018)"
   ]
  },
  {
   "cell_type": "code",
   "execution_count": 19,
   "id": "54538942-13f4-45f1-82af-52a58c70107e",
   "metadata": {},
   "outputs": [
    {
     "data": {
      "text/plain": [
       "array([1.])"
      ]
     },
     "execution_count": 19,
     "metadata": {},
     "output_type": "execute_result"
    }
   ],
   "source": [
    "pin_2018_V_interpolated=pd.read_csv('pin_2018_V_interpolated.csv')\n",
    "pin_2018_V_interpolated['obj_ID'].unique()"
   ]
  },
  {
   "cell_type": "markdown",
   "id": "83e5617b-7bfa-49b1-a273-b4e3fa14b3b8",
   "metadata": {},
   "source": [
    "# acc 2018 pin"
   ]
  },
  {
   "cell_type": "code",
   "execution_count": 12,
   "id": "6bdb8786-5b14-4cde-9f13-a29a9c0340ef",
   "metadata": {},
   "outputs": [
    {
     "name": "stdout",
     "output_type": "stream",
     "text": [
      "unit02_2018-10-04_18_53_28_3_17208\n",
      "unit04_2018-10-22_22_05_05_5_23976\n",
      "unit05_2018-10-21_23_32_24_1_528\n",
      "unit05_2018-10-21_23_32_24_6_21624\n",
      "unit07_2018-11-01_01_11_57_1_57432\n",
      "unit07_2018-11-24_16_03_17_1_1\n",
      "unit08_2018-10-24_15_33_20_1_7392\n",
      "unit10_2018-11-14_18_17_30_19_320400\n",
      "unit10_2018-11-14_18_17_30_20_323208\n",
      "unit14_2018-11-01_17_35_11_1_1\n",
      "unit14_2018-11-02_21_27_48_1_1800\n",
      "unit14_2018-11-03_00_18_58_1_8904\n",
      "unit15_2018-11-02_15_42_28_2_2016\n",
      "unit15_2018-11-02_23_00_29_1_1\n",
      "unit15_2018-11-03_16_24_47_1_1\n",
      "unit16_2018-11-14_20_17_09_2_6552\n",
      "unit21_2018-10-01_13_11_52_5_16824\n"
     ]
    }
   ],
   "source": [
    "path='/Users/atousaz/Library/CloudStorage/Box-Box/'\n",
    "pin_2018_V_interpolated=pd.read_csv('pin_2018_V_interpolated.csv')\n",
    "import warnings\n",
    "warnings.filterwarnings('ignore')\n",
    "import pandas as pd\n",
    "import datetime\n",
    "import numpy as np\n",
    "import pickle\n",
    "from scipy.stats import norm\n",
    "from scipy.interpolate import LSQUnivariateSpline\n",
    "import matplotlib.pyplot as plt\n",
    "import cv2\n",
    "import more_itertools as mit\n",
    "import os\n",
    "import matplotlib\n",
    "import matplotlib.font_manager as font_manager\n",
    "from mpl_toolkits.axes_grid1 import make_axes_locatable\n",
    "#temp=pd.read_csv(path+'farm/Farm-equipment-following-behaviour/notebooks/ANN_2020_interpolated.csv')\n",
    "if \"setup_text_plots\" not in globals():\n",
    "    from astroML.plotting import setup_text_plots\n",
    "    \n",
    "setup_text_plots(fontsize=8, usetex=False)\n",
    "matplotlib.use('Agg')\n",
    "grouped=pin_2018_V_interpolated.groupby(['filename'])\n",
    "for sets, data in grouped:\n",
    "\n",
    "    avg_dist = smooth_scatter(data.refined_dist, 30)\n",
    "    segments = slidingwindowsegment(\n",
    "        avg_dist, poly_regression, poly_sumsquared_error, max_error=10, min_range=30)\n",
    "    segments = update_segments(avg_dist, segments, min_range=30)\n",
    "\n",
    "    x = np.arange(len(data))/30\n",
    "    y = data.refined_dist\n",
    "    t = [i[0]/30 for i in segments]\n",
    "    #     print(x)\n",
    "    #     print(y)\n",
    "    #     print(t)\n",
    "    spl = LSQUnivariateSpline(x, y, t[1:], k=3)\n",
    "    #     print(\"spl: \", spl)\n",
    "\n",
    "\n",
    "\n",
    "    fig, ax = plt.subplots(1, 1, figsize=(12, 4))\n",
    "    draw_segments(avg_dist, segments, ax, spl)\n",
    "\n",
    "    draw_vel(avg_dist, segments, ax, spl)\n",
    "    draw_acc(avg_dist, segments, ax, spl)\n",
    "    ax.plot(np.arange(len(data.refined_dist))/30,\n",
    "            data.refined_dist, 'go',ms=5, alpha=.05)\n",
    "\n",
    "    vel, acc, classes = clasify_segments(avg_dist, segments, spl)\n",
    "    classes, segments = merge_seg(classes, segments)\n",
    "         #print(\"classes_1: \", classes)\n",
    "         #print(\"seg_1: \", segments)\n",
    "\n",
    "    vel, acc, classes = clasify_segments(avg_dist, segments, spl)\n",
    "    classes, segments = merge_seg(classes, segments)\n",
    "    #     print(\"classes: \", classes)\n",
    "    #     print(\"seg_2: \", segments)\n",
    "    try:\n",
    "        for i in range(len(segments)):\n",
    "            ax.text((segments[i][0]/30 + segments[i][2]/30)/2, 20,\n",
    "                    classes[i] + \", {}\".format(i+1), rotation=90, alpha=1)\n",
    "            ax.axvline(x=segments[i][0]/30, ls='--', alpha=.4, c='k')\n",
    "        ax.axvline(x=segments[-1][2]/30, ls='--', alpha=.8, c='k')\n",
    "    except:\n",
    "        print (sets)\n",
    "    plt.savefig(path+'farm/Farm-equipment-following-behaviour/acc_plot_V_2018_pin_interpolated/'+str(sets)+'.jpg',dpi=300)"
   ]
  },
  {
   "cell_type": "markdown",
   "id": "3a5917e7-2a3c-4cd4-b902-f9a14e6bc970",
   "metadata": {},
   "source": [
    "# ANN 2018 "
   ]
  },
  {
   "cell_type": "code",
   "execution_count": 13,
   "id": "1cc4687b-e74c-4b49-84b1-8c4652d4afa4",
   "metadata": {},
   "outputs": [
    {
     "data": {
      "text/html": [
       "<div>\n",
       "<style scoped>\n",
       "    .dataframe tbody tr th:only-of-type {\n",
       "        vertical-align: middle;\n",
       "    }\n",
       "\n",
       "    .dataframe tbody tr th {\n",
       "        vertical-align: top;\n",
       "    }\n",
       "\n",
       "    .dataframe thead th {\n",
       "        text-align: right;\n",
       "    }\n",
       "</style>\n",
       "<table border=\"1\" class=\"dataframe\">\n",
       "  <thead>\n",
       "    <tr style=\"text-align: right;\">\n",
       "      <th></th>\n",
       "      <th>level_0</th>\n",
       "      <th>Unnamed: 0.1</th>\n",
       "      <th>index</th>\n",
       "      <th>frame_num</th>\n",
       "      <th>obj_ID</th>\n",
       "      <th>class_ID</th>\n",
       "      <th>H_x</th>\n",
       "      <th>L</th>\n",
       "      <th>T</th>\n",
       "      <th>W_x</th>\n",
       "      <th>...</th>\n",
       "      <th>phases</th>\n",
       "      <th>spline_dist</th>\n",
       "      <th>velocity</th>\n",
       "      <th>acceleration</th>\n",
       "      <th>H_y</th>\n",
       "      <th>W_y</th>\n",
       "      <th>C_x_y</th>\n",
       "      <th>C_y_y</th>\n",
       "      <th>vehicle_dummy</th>\n",
       "      <th>predict</th>\n",
       "    </tr>\n",
       "  </thead>\n",
       "  <tbody>\n",
       "    <tr>\n",
       "      <th>0</th>\n",
       "      <td>0</td>\n",
       "      <td>0</td>\n",
       "      <td>14</td>\n",
       "      <td>400</td>\n",
       "      <td>1</td>\n",
       "      <td>0</td>\n",
       "      <td>11</td>\n",
       "      <td>465</td>\n",
       "      <td>471</td>\n",
       "      <td>15</td>\n",
       "      <td>...</td>\n",
       "      <td>Backing off</td>\n",
       "      <td>122.202773</td>\n",
       "      <td>66.629430</td>\n",
       "      <td>-97.205389</td>\n",
       "      <td>9.0</td>\n",
       "      <td>18.0</td>\n",
       "      <td>480.0</td>\n",
       "      <td>479.5</td>\n",
       "      <td>0.0</td>\n",
       "      <td>48.482788</td>\n",
       "    </tr>\n",
       "    <tr>\n",
       "      <th>1</th>\n",
       "      <td>698</td>\n",
       "      <td>12</td>\n",
       "      <td>14</td>\n",
       "      <td>436</td>\n",
       "      <td>1</td>\n",
       "      <td>0</td>\n",
       "      <td>31</td>\n",
       "      <td>453</td>\n",
       "      <td>483</td>\n",
       "      <td>39</td>\n",
       "      <td>...</td>\n",
       "      <td>Approaching</td>\n",
       "      <td>57.247445</td>\n",
       "      <td>-5.327398</td>\n",
       "      <td>48.429177</td>\n",
       "      <td>9.0</td>\n",
       "      <td>18.0</td>\n",
       "      <td>480.0</td>\n",
       "      <td>479.5</td>\n",
       "      <td>0.0</td>\n",
       "      <td>48.482788</td>\n",
       "    </tr>\n",
       "    <tr>\n",
       "      <th>2</th>\n",
       "      <td>1006</td>\n",
       "      <td>13</td>\n",
       "      <td>14</td>\n",
       "      <td>480</td>\n",
       "      <td>1</td>\n",
       "      <td>0</td>\n",
       "      <td>9</td>\n",
       "      <td>471</td>\n",
       "      <td>477</td>\n",
       "      <td>9</td>\n",
       "      <td>...</td>\n",
       "      <td>flying pass</td>\n",
       "      <td>259.468702</td>\n",
       "      <td>-43.177409</td>\n",
       "      <td>22.350087</td>\n",
       "      <td>9.0</td>\n",
       "      <td>18.0</td>\n",
       "      <td>480.0</td>\n",
       "      <td>479.5</td>\n",
       "      <td>0.0</td>\n",
       "      <td>48.482788</td>\n",
       "    </tr>\n",
       "  </tbody>\n",
       "</table>\n",
       "<p>3 rows × 32 columns</p>\n",
       "</div>"
      ],
      "text/plain": [
       "   level_0  Unnamed: 0.1  index  frame_num  obj_ID  class_ID  H_x    L    T  \\\n",
       "0        0             0     14        400       1         0   11  465  471   \n",
       "1      698            12     14        436       1         0   31  453  483   \n",
       "2     1006            13     14        480       1         0    9  471  477   \n",
       "\n",
       "   W_x  ...       phases  spline_dist   velocity  acceleration  H_y   W_y  \\\n",
       "0   15  ...  Backing off   122.202773  66.629430    -97.205389  9.0  18.0   \n",
       "1   39  ...  Approaching    57.247445  -5.327398     48.429177  9.0  18.0   \n",
       "2    9  ...  flying pass   259.468702 -43.177409     22.350087  9.0  18.0   \n",
       "\n",
       "   C_x_y  C_y_y vehicle_dummy    predict  \n",
       "0  480.0  479.5           0.0  48.482788  \n",
       "1  480.0  479.5           0.0  48.482788  \n",
       "2  480.0  479.5           0.0  48.482788  \n",
       "\n",
       "[3 rows x 32 columns]"
      ]
     },
     "execution_count": 13,
     "metadata": {},
     "output_type": "execute_result"
    }
   ],
   "source": [
    "# read ANN Data \n",
    "ANN=pd.read_csv('df_ann_test_result_2018_unitless1.csv', index_col=[0])\n",
    "\n",
    "ANN.head(3)"
   ]
  },
  {
   "cell_type": "code",
   "execution_count": 14,
   "id": "f0bb2277-cf4a-408e-b2c2-46d6dfec90b4",
   "metadata": {},
   "outputs": [
    {
     "data": {
      "text/plain": [
       "Index(['level_0', 'Unnamed: 0.1', 'index', 'frame_num', 'obj_ID', 'class_ID',\n",
       "       'H_x', 'L', 'T', 'W_x', 'dist', 'C_x_x', 'C_y_x', 'center',\n",
       "       'datetime_time', 'Speed_MPH', 'Latitude', 'Longitude', 'filename',\n",
       "       'Type of vehicle', 'Type of road', 'refined_dist', 'phases',\n",
       "       'spline_dist', 'velocity', 'acceleration', 'H_y', 'W_y', 'C_x_y',\n",
       "       'C_y_y', 'vehicle_dummy', 'predict'],\n",
       "      dtype='object')"
      ]
     },
     "execution_count": 14,
     "metadata": {},
     "output_type": "execute_result"
    }
   ],
   "source": [
    "ANN.columns"
   ]
  },
  {
   "cell_type": "code",
   "execution_count": 15,
   "id": "d1d34dcc-17da-4904-94d0-7bc940822cd8",
   "metadata": {},
   "outputs": [],
   "source": [
    "ANN=ANN[['frame_num', 'obj_ID', 'class_ID',\n",
    "       'H_x', 'L', 'T', 'W_x', 'dist', 'C_x_x', 'C_y_x', 'center',\n",
    "       'datetime_time', 'Speed_MPH', 'Latitude', 'Longitude', 'filename',\n",
    "       'Type of vehicle', 'Type of road', 'refined_dist','predict']]"
   ]
  },
  {
   "cell_type": "code",
   "execution_count": 16,
   "id": "6c796b36-d083-42ae-bad9-640435abe39b",
   "metadata": {},
   "outputs": [],
   "source": [
    "# filter object ID\n",
    "ANN=ANN[ANN['obj_ID']==1]\n",
    "ANN=ANN.reset_index(drop=True)"
   ]
  },
  {
   "cell_type": "code",
   "execution_count": 17,
   "id": "f7a1e399-3669-4061-936f-7fde94aee74f",
   "metadata": {},
   "outputs": [
    {
     "data": {
      "text/plain": [
       "182614"
      ]
     },
     "execution_count": 17,
     "metadata": {},
     "output_type": "execute_result"
    }
   ],
   "source": [
    "len(ANN)"
   ]
  },
  {
   "cell_type": "code",
   "execution_count": 18,
   "id": "0e6fe910-567d-4349-b9a2-3d7c1b44e841",
   "metadata": {},
   "outputs": [
    {
     "data": {
      "text/plain": [
       "array(['truck', 'car'], dtype=object)"
      ]
     },
     "execution_count": 18,
     "metadata": {},
     "output_type": "execute_result"
    }
   ],
   "source": [
    "ANN['Type of vehicle'].unique()"
   ]
  },
  {
   "cell_type": "code",
   "execution_count": 19,
   "id": "66e93eba-847c-46d0-9e69-ec48b1ee8c34",
   "metadata": {},
   "outputs": [],
   "source": [
    "# Preparing dataset (the deep learning model will be imported here)\n",
    "import warnings\n",
    "warnings.filterwarnings('ignore')\n",
    "cnt = 0\n",
    "dataset = pd.DataFrame()\n",
    "not_processed = []\n",
    "grouped=ANN.groupby(['filename'])             \n",
    "for sets, data in grouped: \n",
    "    \n",
    "       # print(sets)\n",
    "        data=data.reset_index(drop=True)\n",
    "\n",
    "        tmp=pd.DataFrame(np.arange(data['frame_num'].iloc[0],data['frame_num'].iloc[-1]))\n",
    "        tmp=tmp.rename(columns={tmp.columns[0]: 'frame'})\n",
    "        tmp1=tmp.merge(data, how='left',left_on=['frame'], right_on=['frame_num'])\n",
    "        tmp1['frames_all2']=str([data['frame_num'].iloc[0],data['frame_num'].iloc[-1]])\n",
    "\n",
    "        tmp1=tmp1.set_index('frame')\n",
    "        tmp1['predict']=tmp1['predict'].interpolate(method='linear')\n",
    "        tmp1['filename'] = tmp1['filename'].fillna(method='ffill')\n",
    "        tmp1['filename'] = tmp1['filename'].fillna(method='bfill')\n",
    "        tmp1['Type of vehicle'] = tmp1['Type of vehicle'].fillna(method='ffill')\n",
    "\n",
    "        acc2,vel2,phases, classes, segments, spline = detect_phases(data.predict, plot=False) #Check helper.py for this function               \n",
    "\n",
    "        if type(phases) == int:\n",
    "            continue\n",
    "        data=data.reset_index()    \n",
    "        data['phases'] = phases\n",
    "        data['spline_dist'] = spline\n",
    "        data['velocity'] = vel2\n",
    "        data['acceleration'] = acc2\n",
    "\n",
    "        dataset = pd.concat([dataset,data])\n",
    "\n",
    "\n",
    "\n",
    "\n",
    "        cnt += 1\n",
    "            \n",
    "\n"
   ]
  },
  {
   "cell_type": "code",
   "execution_count": 20,
   "id": "12cd2015-d221-41cc-ac18-013f12ae19a2",
   "metadata": {},
   "outputs": [
    {
     "data": {
      "text/plain": [
       "(182614, 182614)"
      ]
     },
     "execution_count": 20,
     "metadata": {},
     "output_type": "execute_result"
    }
   ],
   "source": [
    "len(dataset),182614"
   ]
  },
  {
   "cell_type": "code",
   "execution_count": 11,
   "id": "debf0c88-8983-4675-9cb5-5e728952a06b",
   "metadata": {},
   "outputs": [],
   "source": [
    "dataset.to_csv('ANN_2018_V_interpolated.csv')"
   ]
  },
  {
   "cell_type": "code",
   "execution_count": 21,
   "id": "89bb0343-811e-4a91-ae76-25b43281bc85",
   "metadata": {},
   "outputs": [
    {
     "name": "stdout",
     "output_type": "stream",
     "text": [
      "unit01_2019-10-14_12_48_57_1_5952\n",
      "unit01_2019-10-14_22_01_59_3_17304\n",
      "unit01_2019-10-20_16_38_44_4_14808\n",
      "unit01_2019-10-28_13_24_53_2_1128\n",
      "unit01_2019-11-14_22_22_35_11_64392\n",
      "unit01_2019-11-14_22_22_35_3_23232\n",
      "unit01_2019-11-14_22_22_35_4_31416\n",
      "unit02_2019-10-09_13_27_25_1_14088\n",
      "unit02_2019-10-09_13_27_25_2_20136\n",
      "unit02_2019-10-18_19_58_25_1_4536\n",
      "unit03_2019-11-03_15_38_59_1_4968\n",
      "unit05_2019-11-16_22_37_58_1_528\n",
      "unit06_2019-10-18_17_46_36_1_20328\n",
      "unit06_2019-10-18_17_46_36_2_22488\n",
      "unit06_2019-10-18_17_46_36_3_25224\n",
      "unit06_2019-10-30_18_35_35_3_9072\n",
      "unit06_2019-10-30_18_35_35_4_9984\n",
      "unit08_2019-10-25_19_23_55_1_13032\n",
      "unit11_2019-10-28_19_26_14_3_7560\n",
      "unit11_2019-10-28_19_26_14_4_9432\n",
      "unit11_2019-10-28_19_26_14_5_10920\n",
      "unit11_2019-10-30_23_04_11_1_1\n",
      "unit13_2019-11-01_19_24_15_1_1\n",
      "unit13_2019-11-05_17_30_01_1_1\n",
      "unit13_2019-11-06_22_39_15_4_10344\n",
      "unit15_2003-09-04_00_02_48_4_7776\n",
      "unit16_2019-11-18_20_28_44_2_624\n",
      "unit16_2019-11-18_20_28_44_3_5808\n",
      "unit16_2019-11-18_20_28_44_5_15192\n",
      "unit16_2019-11-18_20_28_44_8_24960\n",
      "unit19_2019-11-21_13_57_45_1_6624\n",
      "unit20_2019-10-27_19_37_33_3_19560\n",
      "unit20_2019-10-28_20_39_12_6_26952\n"
     ]
    }
   ],
   "source": [
    "path='/Users/atousaz/Library/CloudStorage/Box-Box/'\n",
    "import warnings\n",
    "warnings.filterwarnings('ignore')\n",
    "import pandas as pd\n",
    "import datetime\n",
    "import numpy as np\n",
    "import pickle\n",
    "from scipy.stats import norm\n",
    "from scipy.interpolate import LSQUnivariateSpline\n",
    "import matplotlib\n",
    "import matplotlib.pyplot as plt\n",
    "import cv2\n",
    "import more_itertools as mit\n",
    "import os\n",
    "import matplotlib.font_manager as font_manager\n",
    "from mpl_toolkits.axes_grid1 import make_axes_locatable\n",
    "temp=pd.read_csv(path+'farm/Farm-equipment-following-behaviour/notebooks/ANN_2019_V_interpolated.csv')\n",
    "if \"setup_text_plots\" not in globals():\n",
    "    from astroML.plotting import setup_text_plots\n",
    "    \n",
    "setup_text_plots(fontsize=8, usetex=False)\n",
    "matplotlib.use('Agg')\n",
    "grouped=temp.groupby(['filename'])\n",
    "for sets, data in grouped:\n",
    "\n",
    "    avg_dist = smooth_scatter(data.predict, 30)\n",
    "    segments = slidingwindowsegment(\n",
    "        avg_dist, poly_regression, poly_sumsquared_error, max_error=10, min_range=30)\n",
    "    segments = update_segments(avg_dist, segments, min_range=30)\n",
    "\n",
    "    x = np.arange(len(data))/30\n",
    "    y = data.predict\n",
    "    t = [i[0]/30 for i in segments]\n",
    "    #     print(x)\n",
    "    #     print(y)\n",
    "    #     print(t)\n",
    "    spl = LSQUnivariateSpline(x, y, t[1:], k=3)\n",
    "    #     print(\"spl: \", spl)\n",
    "\n",
    "\n",
    "\n",
    "    fig, ax = plt.subplots(1, 1, figsize=(12, 4))\n",
    "    draw_segments(avg_dist, segments, ax, spl)\n",
    "\n",
    "    draw_vel(avg_dist, segments, ax, spl)\n",
    "    draw_acc(avg_dist, segments, ax, spl)\n",
    "    ax.plot(np.arange(len(data.predict))/30,\n",
    "            data.predict, 'go',ms=5, alpha=.05)\n",
    "\n",
    "    vel, acc, classes = clasify_segments(avg_dist, segments, spl)\n",
    "    classes, segments = merge_seg(classes, segments)\n",
    "         #print(\"classes_1: \", classes)\n",
    "         #print(\"seg_1: \", segments)\n",
    "\n",
    "    vel, acc, classes = clasify_segments(avg_dist, segments, spl)\n",
    "    classes, segments = merge_seg(classes, segments)\n",
    "    #     print(\"classes: \", classes)\n",
    "    #     print(\"seg_2: \", segments)\n",
    "    try:\n",
    "        for i in range(len(segments)):\n",
    "            ax.text((segments[i][0]/30 + segments[i][2]/30)/2, 20,\n",
    "                    classes[i] + \", {}\".format(i+1), rotation=90, alpha=1)\n",
    "            ax.axvline(x=segments[i][0]/30, ls='--', alpha=.4, c='k')\n",
    "        ax.axvline(x=segments[-1][2]/30, ls='--', alpha=.8, c='k')\n",
    "    except:\n",
    "        print (sets)\n",
    "    plt.savefig(path+'farm/Farm-equipment-following-behaviour/acc_plot_V_2018_ANN_interpolated/'+str(sets)+'.jpg',dpi=300)"
   ]
  },
  {
   "cell_type": "code",
   "execution_count": null,
   "id": "80887bf6-4ee2-4e68-afff-c701ade6bbc9",
   "metadata": {},
   "outputs": [],
   "source": []
  }
 ],
 "metadata": {
  "kernelspec": {
   "display_name": "Python 3 (ipykernel)",
   "language": "python",
   "name": "python3"
  },
  "language_info": {
   "codemirror_mode": {
    "name": "ipython",
    "version": 3
   },
   "file_extension": ".py",
   "mimetype": "text/x-python",
   "name": "python",
   "nbconvert_exporter": "python",
   "pygments_lexer": "ipython3",
   "version": "3.9.7"
  }
 },
 "nbformat": 4,
 "nbformat_minor": 5
}
